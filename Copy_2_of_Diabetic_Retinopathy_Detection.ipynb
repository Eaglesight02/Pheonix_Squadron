{
  "cells": [
    {
      "cell_type": "markdown",
      "metadata": {
        "id": "view-in-github",
        "colab_type": "text"
      },
      "source": [
        "<a href=\"https://colab.research.google.com/github/Eaglesight02/Pheonix_Squadron/blob/wing_0/Copy_2_of_Diabetic_Retinopathy_Detection.ipynb\" target=\"_parent\"><img src=\"https://colab.research.google.com/assets/colab-badge.svg\" alt=\"Open In Colab\"/></a>"
      ]
    },
    {
      "cell_type": "markdown",
      "source": [
        "### 1. Getting the data and uploading it into our google drive.\n"
      ],
      "metadata": {
        "id": "PwGvfdg0tzXE"
      }
    },
    {
      "cell_type": "code",
      "execution_count": 8,
      "metadata": {
        "colab": {
          "base_uri": "https://localhost:8080/"
        },
        "id": "QLb-PuLenzIy",
        "outputId": "d34c7a26-2bd5-4441-b066-ca56d0b2129a"
      },
      "outputs": [
        {
          "output_type": "stream",
          "name": "stdout",
          "text": [
            "Mounted at /content/drive\n"
          ]
        }
      ],
      "source": [
        "# # Mounting the google drive(Of Pheonix Squadron)\n",
        "\n",
        "from google.colab import drive\n",
        "drive.mount('/content/drive')"
      ]
    },
    {
      "cell_type": "code",
      "execution_count": null,
      "metadata": {
        "id": "s43zNWycn43t"
      },
      "outputs": [],
      "source": [
        "from google.colab import files\n",
        "uploaded = files.upload()\n",
        "\n",
        "!mkdir ~/.kaggle\n",
        "!mv kaggle.json ~/.kaggle/kaggle.json\n",
        "\n",
        "!chmod 600 ~/.kaggle/kaggle.json"
      ]
    },
    {
      "cell_type": "code",
      "execution_count": 4,
      "metadata": {
        "id": "RqcS7ypJoS5L",
        "colab": {
          "base_uri": "https://localhost:8080/"
        },
        "outputId": "34351f32-372c-4028-d64f-bbcd79568a62"
      },
      "outputs": [
        {
          "output_type": "stream",
          "name": "stdout",
          "text": [
            "Warning: Your Kaggle API key is readable by other users on this system! To fix this, you can run 'chmod 600 /root/.kaggle/kaggle.json'\n",
            "Downloading retinal-disease-classification.zip to /content\n",
            "100% 7.42G/7.43G [01:13<00:00, 158MB/s]\n",
            "100% 7.43G/7.43G [01:13<00:00, 109MB/s]\n"
          ]
        }
      ],
      "source": [
        "!kaggle datasets download -d andrewmvd/retinal-disease-classification"
      ]
    },
    {
      "cell_type": "code",
      "execution_count": 5,
      "metadata": {
        "id": "hwnigqXIoVbp"
      },
      "outputs": [],
      "source": [
        "import zipfile\n",
        "with zipfile.ZipFile('/content/retinal-disease-classification.zip','r') as zip_ref:\n",
        "  zip_ref.extractall('Diabetic Retinopathy')"
      ]
    },
    {
      "cell_type": "code",
      "execution_count": 6,
      "metadata": {
        "id": "vNxI8NwKqQl3"
      },
      "outputs": [],
      "source": [
        "import os\n",
        "os.remove('/content/retinal-disease-classification.zip')"
      ]
    },
    {
      "cell_type": "markdown",
      "source": [
        "### 2. Setting the Paths."
      ],
      "metadata": {
        "id": "z4lGiy6hvKGe"
      }
    },
    {
      "cell_type": "code",
      "source": [
        "import os"
      ],
      "metadata": {
        "id": "B-2Ohat9rvLt"
      },
      "execution_count": 7,
      "outputs": []
    },
    {
      "cell_type": "code",
      "source": [
        "Data_path = '/content/Diabetic Retinopathy'"
      ],
      "metadata": {
        "id": "iWJuyTo8vsdT"
      },
      "execution_count": 9,
      "outputs": []
    },
    {
      "cell_type": "code",
      "source": [
        "Training_set = os.path.join(Data_path,'Training_Set','Training_Set')\n",
        "Testing_set = os.path.join(Data_path,'Test_Set','Test_Set')\n",
        "Validation_set = os.path.join(Data_path,'Evaluation_Set','Evaluation_Set')"
      ],
      "metadata": {
        "id": "5dCoqX83vzaL"
      },
      "execution_count": 10,
      "outputs": []
    },
    {
      "cell_type": "code",
      "source": [
        "Training_set"
      ],
      "metadata": {
        "colab": {
          "base_uri": "https://localhost:8080/",
          "height": 35
        },
        "id": "jpKH7cF9kvCS",
        "outputId": "86191a1a-42bc-4daf-8c50-1c228206427c"
      },
      "execution_count": 11,
      "outputs": [
        {
          "output_type": "execute_result",
          "data": {
            "text/plain": [
              "'/content/Diabetic Retinopathy/Training_Set/Training_Set'"
            ],
            "application/vnd.google.colaboratory.intrinsic+json": {
              "type": "string"
            }
          },
          "metadata": {},
          "execution_count": 11
        }
      ]
    },
    {
      "cell_type": "code",
      "source": [
        "Testing_set"
      ],
      "metadata": {
        "colab": {
          "base_uri": "https://localhost:8080/",
          "height": 35
        },
        "id": "0L8SyswCwBtA",
        "outputId": "4cfa9e60-b7f9-4f15-9780-26e7feb6af52"
      },
      "execution_count": 12,
      "outputs": [
        {
          "output_type": "execute_result",
          "data": {
            "text/plain": [
              "'/content/Diabetic Retinopathy/Test_Set/Test_Set'"
            ],
            "application/vnd.google.colaboratory.intrinsic+json": {
              "type": "string"
            }
          },
          "metadata": {},
          "execution_count": 12
        }
      ]
    },
    {
      "cell_type": "code",
      "source": [
        "Validation_set"
      ],
      "metadata": {
        "colab": {
          "base_uri": "https://localhost:8080/",
          "height": 35
        },
        "id": "d5wLeSxawsmH",
        "outputId": "7e2d8501-cfc4-407b-9404-ff9f6fd27798"
      },
      "execution_count": 13,
      "outputs": [
        {
          "output_type": "execute_result",
          "data": {
            "text/plain": [
              "'/content/Diabetic Retinopathy/Evaluation_Set/Evaluation_Set'"
            ],
            "application/vnd.google.colaboratory.intrinsic+json": {
              "type": "string"
            }
          },
          "metadata": {},
          "execution_count": 13
        }
      ]
    },
    {
      "cell_type": "code",
      "source": [
        "Training_images = os.path.join(Training_set,'Training/')\n",
        "Testing_images = os.path.join(Testing_set,'Test/')\n",
        "Validation_images = os.path.join(Validation_set,'Validation/')"
      ],
      "metadata": {
        "id": "iait5OkFwtaz"
      },
      "execution_count": 14,
      "outputs": []
    },
    {
      "cell_type": "code",
      "source": [
        "Training_images"
      ],
      "metadata": {
        "colab": {
          "base_uri": "https://localhost:8080/",
          "height": 35
        },
        "id": "AD-oITM6w9iN",
        "outputId": "6fc2659a-4fe4-4826-dd8f-1e09e1b5aba3"
      },
      "execution_count": 15,
      "outputs": [
        {
          "output_type": "execute_result",
          "data": {
            "text/plain": [
              "'/content/Diabetic Retinopathy/Training_Set/Training_Set/Training/'"
            ],
            "application/vnd.google.colaboratory.intrinsic+json": {
              "type": "string"
            }
          },
          "metadata": {},
          "execution_count": 15
        }
      ]
    },
    {
      "cell_type": "code",
      "source": [
        "Testing_images"
      ],
      "metadata": {
        "colab": {
          "base_uri": "https://localhost:8080/",
          "height": 35
        },
        "id": "P2Mn7izKw-9S",
        "outputId": "9724ec1b-ee7b-47d6-9302-0d6c3d4ef505"
      },
      "execution_count": 16,
      "outputs": [
        {
          "output_type": "execute_result",
          "data": {
            "text/plain": [
              "'/content/Diabetic Retinopathy/Test_Set/Test_Set/Test/'"
            ],
            "application/vnd.google.colaboratory.intrinsic+json": {
              "type": "string"
            }
          },
          "metadata": {},
          "execution_count": 16
        }
      ]
    },
    {
      "cell_type": "code",
      "source": [
        "Validation_images"
      ],
      "metadata": {
        "colab": {
          "base_uri": "https://localhost:8080/",
          "height": 35
        },
        "id": "IBHD6o4ixA7U",
        "outputId": "b715dce6-bf6e-40cc-f803-ecf64d592c16"
      },
      "execution_count": 17,
      "outputs": [
        {
          "output_type": "execute_result",
          "data": {
            "text/plain": [
              "'/content/Diabetic Retinopathy/Evaluation_Set/Evaluation_Set/Validation/'"
            ],
            "application/vnd.google.colaboratory.intrinsic+json": {
              "type": "string"
            }
          },
          "metadata": {},
          "execution_count": 17
        }
      ]
    },
    {
      "cell_type": "code",
      "source": [
        "Training_labels = os.path.join(Training_set,'RFMiD_Training_Labels.csv')\n",
        "Testing_labels = os.path.join(Testing_set,'RFMiD_Testing_Labels.csv')\n",
        "Validation_labels = os.path.join(Validation_set,'RFMiD_Validation_Labels.csv')"
      ],
      "metadata": {
        "id": "56r0FJEaxB14"
      },
      "execution_count": 18,
      "outputs": []
    },
    {
      "cell_type": "code",
      "source": [
        "Training_labels"
      ],
      "metadata": {
        "colab": {
          "base_uri": "https://localhost:8080/",
          "height": 35
        },
        "id": "emG_GwUrxYv6",
        "outputId": "d50ddb6f-72c0-438c-8d97-cf3288e9a66e"
      },
      "execution_count": 19,
      "outputs": [
        {
          "output_type": "execute_result",
          "data": {
            "text/plain": [
              "'/content/Diabetic Retinopathy/Training_Set/Training_Set/RFMiD_Training_Labels.csv'"
            ],
            "application/vnd.google.colaboratory.intrinsic+json": {
              "type": "string"
            }
          },
          "metadata": {},
          "execution_count": 19
        }
      ]
    },
    {
      "cell_type": "code",
      "source": [
        "Testing_labels"
      ],
      "metadata": {
        "colab": {
          "base_uri": "https://localhost:8080/",
          "height": 35
        },
        "id": "emIGrR4ixZ6-",
        "outputId": "5096459f-40c2-4296-87fb-de5963f476a4"
      },
      "execution_count": 20,
      "outputs": [
        {
          "output_type": "execute_result",
          "data": {
            "text/plain": [
              "'/content/Diabetic Retinopathy/Test_Set/Test_Set/RFMiD_Testing_Labels.csv'"
            ],
            "application/vnd.google.colaboratory.intrinsic+json": {
              "type": "string"
            }
          },
          "metadata": {},
          "execution_count": 20
        }
      ]
    },
    {
      "cell_type": "code",
      "source": [
        "Validation_labels"
      ],
      "metadata": {
        "colab": {
          "base_uri": "https://localhost:8080/",
          "height": 35
        },
        "id": "aYIz6U_kxas8",
        "outputId": "2afdf6b8-03c0-41ce-f13e-f1653149c1d8"
      },
      "execution_count": 21,
      "outputs": [
        {
          "output_type": "execute_result",
          "data": {
            "text/plain": [
              "'/content/Diabetic Retinopathy/Evaluation_Set/Evaluation_Set/RFMiD_Validation_Labels.csv'"
            ],
            "application/vnd.google.colaboratory.intrinsic+json": {
              "type": "string"
            }
          },
          "metadata": {},
          "execution_count": 21
        }
      ]
    },
    {
      "cell_type": "markdown",
      "source": [
        "### 3. Importing the necessary modules and reading the labels: "
      ],
      "metadata": {
        "id": "DT1x588SxtFx"
      }
    },
    {
      "cell_type": "code",
      "source": [
        "import pandas as pd\n",
        "import numpy as np\n",
        "import matplotlib.pyplot as plt\n",
        "import seaborn as sns\n",
        "import tensorflow as tf\n",
        "from tensorflow import keras\n",
        "import cv2\n",
        "import random\n",
        "from keras.preprocessing.image import ImageDataGenerator"
      ],
      "metadata": {
        "id": "inPUc6yqxduX"
      },
      "execution_count": 22,
      "outputs": []
    },
    {
      "cell_type": "code",
      "source": [
        "Train_df = pd.read_csv(Training_labels)\n",
        "Test_df = pd.read_csv(Testing_labels)\n",
        "Val_df = pd.read_csv(Validation_labels)"
      ],
      "metadata": {
        "id": "yU2r5tN6zttV"
      },
      "execution_count": 23,
      "outputs": []
    },
    {
      "cell_type": "markdown",
      "source": [
        "### 4. Basic EDA"
      ],
      "metadata": {
        "id": "PRdh7syRx7DX"
      }
    },
    {
      "cell_type": "code",
      "source": [
        "Train_df.head()"
      ],
      "metadata": {
        "colab": {
          "base_uri": "https://localhost:8080/",
          "height": 236
        },
        "id": "RAH2_MoUx4eW",
        "outputId": "282d383d-3b63-4021-be6c-0b3e45c000cb"
      },
      "execution_count": 24,
      "outputs": [
        {
          "output_type": "execute_result",
          "data": {
            "text/plain": [
              "   ID  Disease_Risk  DR  ARMD  MH  DN  MYA  BRVO  TSLN  ERM  ...  CME  PTCR  \\\n",
              "0   1             1   1     0   0   0    0     0     0    0  ...    0     0   \n",
              "1   2             1   1     0   0   0    0     0     0    0  ...    0     0   \n",
              "2   3             1   1     0   0   0    0     0     0    0  ...    0     0   \n",
              "3   4             1   0     0   1   0    0     0     0    0  ...    0     0   \n",
              "4   5             1   1     0   0   0    0     0     0    0  ...    0     0   \n",
              "\n",
              "   CF  VH  MCA  VS  BRAO  PLQ  HPED  CL  \n",
              "0   0   0    0   0     0    0     0   0  \n",
              "1   0   0    0   0     0    0     0   0  \n",
              "2   0   0    0   0     0    0     0   0  \n",
              "3   0   0    0   0     0    0     0   0  \n",
              "4   0   0    0   0     0    0     0   0  \n",
              "\n",
              "[5 rows x 47 columns]"
            ],
            "text/html": [
              "\n",
              "  <div id=\"df-1db139b4-7565-4151-899f-c7976bb3fafc\">\n",
              "    <div class=\"colab-df-container\">\n",
              "      <div>\n",
              "<style scoped>\n",
              "    .dataframe tbody tr th:only-of-type {\n",
              "        vertical-align: middle;\n",
              "    }\n",
              "\n",
              "    .dataframe tbody tr th {\n",
              "        vertical-align: top;\n",
              "    }\n",
              "\n",
              "    .dataframe thead th {\n",
              "        text-align: right;\n",
              "    }\n",
              "</style>\n",
              "<table border=\"1\" class=\"dataframe\">\n",
              "  <thead>\n",
              "    <tr style=\"text-align: right;\">\n",
              "      <th></th>\n",
              "      <th>ID</th>\n",
              "      <th>Disease_Risk</th>\n",
              "      <th>DR</th>\n",
              "      <th>ARMD</th>\n",
              "      <th>MH</th>\n",
              "      <th>DN</th>\n",
              "      <th>MYA</th>\n",
              "      <th>BRVO</th>\n",
              "      <th>TSLN</th>\n",
              "      <th>ERM</th>\n",
              "      <th>...</th>\n",
              "      <th>CME</th>\n",
              "      <th>PTCR</th>\n",
              "      <th>CF</th>\n",
              "      <th>VH</th>\n",
              "      <th>MCA</th>\n",
              "      <th>VS</th>\n",
              "      <th>BRAO</th>\n",
              "      <th>PLQ</th>\n",
              "      <th>HPED</th>\n",
              "      <th>CL</th>\n",
              "    </tr>\n",
              "  </thead>\n",
              "  <tbody>\n",
              "    <tr>\n",
              "      <th>0</th>\n",
              "      <td>1</td>\n",
              "      <td>1</td>\n",
              "      <td>1</td>\n",
              "      <td>0</td>\n",
              "      <td>0</td>\n",
              "      <td>0</td>\n",
              "      <td>0</td>\n",
              "      <td>0</td>\n",
              "      <td>0</td>\n",
              "      <td>0</td>\n",
              "      <td>...</td>\n",
              "      <td>0</td>\n",
              "      <td>0</td>\n",
              "      <td>0</td>\n",
              "      <td>0</td>\n",
              "      <td>0</td>\n",
              "      <td>0</td>\n",
              "      <td>0</td>\n",
              "      <td>0</td>\n",
              "      <td>0</td>\n",
              "      <td>0</td>\n",
              "    </tr>\n",
              "    <tr>\n",
              "      <th>1</th>\n",
              "      <td>2</td>\n",
              "      <td>1</td>\n",
              "      <td>1</td>\n",
              "      <td>0</td>\n",
              "      <td>0</td>\n",
              "      <td>0</td>\n",
              "      <td>0</td>\n",
              "      <td>0</td>\n",
              "      <td>0</td>\n",
              "      <td>0</td>\n",
              "      <td>...</td>\n",
              "      <td>0</td>\n",
              "      <td>0</td>\n",
              "      <td>0</td>\n",
              "      <td>0</td>\n",
              "      <td>0</td>\n",
              "      <td>0</td>\n",
              "      <td>0</td>\n",
              "      <td>0</td>\n",
              "      <td>0</td>\n",
              "      <td>0</td>\n",
              "    </tr>\n",
              "    <tr>\n",
              "      <th>2</th>\n",
              "      <td>3</td>\n",
              "      <td>1</td>\n",
              "      <td>1</td>\n",
              "      <td>0</td>\n",
              "      <td>0</td>\n",
              "      <td>0</td>\n",
              "      <td>0</td>\n",
              "      <td>0</td>\n",
              "      <td>0</td>\n",
              "      <td>0</td>\n",
              "      <td>...</td>\n",
              "      <td>0</td>\n",
              "      <td>0</td>\n",
              "      <td>0</td>\n",
              "      <td>0</td>\n",
              "      <td>0</td>\n",
              "      <td>0</td>\n",
              "      <td>0</td>\n",
              "      <td>0</td>\n",
              "      <td>0</td>\n",
              "      <td>0</td>\n",
              "    </tr>\n",
              "    <tr>\n",
              "      <th>3</th>\n",
              "      <td>4</td>\n",
              "      <td>1</td>\n",
              "      <td>0</td>\n",
              "      <td>0</td>\n",
              "      <td>1</td>\n",
              "      <td>0</td>\n",
              "      <td>0</td>\n",
              "      <td>0</td>\n",
              "      <td>0</td>\n",
              "      <td>0</td>\n",
              "      <td>...</td>\n",
              "      <td>0</td>\n",
              "      <td>0</td>\n",
              "      <td>0</td>\n",
              "      <td>0</td>\n",
              "      <td>0</td>\n",
              "      <td>0</td>\n",
              "      <td>0</td>\n",
              "      <td>0</td>\n",
              "      <td>0</td>\n",
              "      <td>0</td>\n",
              "    </tr>\n",
              "    <tr>\n",
              "      <th>4</th>\n",
              "      <td>5</td>\n",
              "      <td>1</td>\n",
              "      <td>1</td>\n",
              "      <td>0</td>\n",
              "      <td>0</td>\n",
              "      <td>0</td>\n",
              "      <td>0</td>\n",
              "      <td>0</td>\n",
              "      <td>0</td>\n",
              "      <td>0</td>\n",
              "      <td>...</td>\n",
              "      <td>0</td>\n",
              "      <td>0</td>\n",
              "      <td>0</td>\n",
              "      <td>0</td>\n",
              "      <td>0</td>\n",
              "      <td>0</td>\n",
              "      <td>0</td>\n",
              "      <td>0</td>\n",
              "      <td>0</td>\n",
              "      <td>0</td>\n",
              "    </tr>\n",
              "  </tbody>\n",
              "</table>\n",
              "<p>5 rows × 47 columns</p>\n",
              "</div>\n",
              "      <button class=\"colab-df-convert\" onclick=\"convertToInteractive('df-1db139b4-7565-4151-899f-c7976bb3fafc')\"\n",
              "              title=\"Convert this dataframe to an interactive table.\"\n",
              "              style=\"display:none;\">\n",
              "        \n",
              "  <svg xmlns=\"http://www.w3.org/2000/svg\" height=\"24px\"viewBox=\"0 0 24 24\"\n",
              "       width=\"24px\">\n",
              "    <path d=\"M0 0h24v24H0V0z\" fill=\"none\"/>\n",
              "    <path d=\"M18.56 5.44l.94 2.06.94-2.06 2.06-.94-2.06-.94-.94-2.06-.94 2.06-2.06.94zm-11 1L8.5 8.5l.94-2.06 2.06-.94-2.06-.94L8.5 2.5l-.94 2.06-2.06.94zm10 10l.94 2.06.94-2.06 2.06-.94-2.06-.94-.94-2.06-.94 2.06-2.06.94z\"/><path d=\"M17.41 7.96l-1.37-1.37c-.4-.4-.92-.59-1.43-.59-.52 0-1.04.2-1.43.59L10.3 9.45l-7.72 7.72c-.78.78-.78 2.05 0 2.83L4 21.41c.39.39.9.59 1.41.59.51 0 1.02-.2 1.41-.59l7.78-7.78 2.81-2.81c.8-.78.8-2.07 0-2.86zM5.41 20L4 18.59l7.72-7.72 1.47 1.35L5.41 20z\"/>\n",
              "  </svg>\n",
              "      </button>\n",
              "      \n",
              "  <style>\n",
              "    .colab-df-container {\n",
              "      display:flex;\n",
              "      flex-wrap:wrap;\n",
              "      gap: 12px;\n",
              "    }\n",
              "\n",
              "    .colab-df-convert {\n",
              "      background-color: #E8F0FE;\n",
              "      border: none;\n",
              "      border-radius: 50%;\n",
              "      cursor: pointer;\n",
              "      display: none;\n",
              "      fill: #1967D2;\n",
              "      height: 32px;\n",
              "      padding: 0 0 0 0;\n",
              "      width: 32px;\n",
              "    }\n",
              "\n",
              "    .colab-df-convert:hover {\n",
              "      background-color: #E2EBFA;\n",
              "      box-shadow: 0px 1px 2px rgba(60, 64, 67, 0.3), 0px 1px 3px 1px rgba(60, 64, 67, 0.15);\n",
              "      fill: #174EA6;\n",
              "    }\n",
              "\n",
              "    [theme=dark] .colab-df-convert {\n",
              "      background-color: #3B4455;\n",
              "      fill: #D2E3FC;\n",
              "    }\n",
              "\n",
              "    [theme=dark] .colab-df-convert:hover {\n",
              "      background-color: #434B5C;\n",
              "      box-shadow: 0px 1px 3px 1px rgba(0, 0, 0, 0.15);\n",
              "      filter: drop-shadow(0px 1px 2px rgba(0, 0, 0, 0.3));\n",
              "      fill: #FFFFFF;\n",
              "    }\n",
              "  </style>\n",
              "\n",
              "      <script>\n",
              "        const buttonEl =\n",
              "          document.querySelector('#df-1db139b4-7565-4151-899f-c7976bb3fafc button.colab-df-convert');\n",
              "        buttonEl.style.display =\n",
              "          google.colab.kernel.accessAllowed ? 'block' : 'none';\n",
              "\n",
              "        async function convertToInteractive(key) {\n",
              "          const element = document.querySelector('#df-1db139b4-7565-4151-899f-c7976bb3fafc');\n",
              "          const dataTable =\n",
              "            await google.colab.kernel.invokeFunction('convertToInteractive',\n",
              "                                                     [key], {});\n",
              "          if (!dataTable) return;\n",
              "\n",
              "          const docLinkHtml = 'Like what you see? Visit the ' +\n",
              "            '<a target=\"_blank\" href=https://colab.research.google.com/notebooks/data_table.ipynb>data table notebook</a>'\n",
              "            + ' to learn more about interactive tables.';\n",
              "          element.innerHTML = '';\n",
              "          dataTable['output_type'] = 'display_data';\n",
              "          await google.colab.output.renderOutput(dataTable, element);\n",
              "          const docLink = document.createElement('div');\n",
              "          docLink.innerHTML = docLinkHtml;\n",
              "          element.appendChild(docLink);\n",
              "        }\n",
              "      </script>\n",
              "    </div>\n",
              "  </div>\n",
              "  "
            ]
          },
          "metadata": {},
          "execution_count": 24
        }
      ]
    },
    {
      "cell_type": "code",
      "source": [
        "Test_df.head()"
      ],
      "metadata": {
        "colab": {
          "base_uri": "https://localhost:8080/",
          "height": 236
        },
        "id": "v9OMAh020v7x",
        "outputId": "5df59b8a-acd5-45e2-8576-cd11f7f93e17"
      },
      "execution_count": 25,
      "outputs": [
        {
          "output_type": "execute_result",
          "data": {
            "text/plain": [
              "   ID  Disease_Risk  DR  ARMD  MH  DN  MYA  BRVO  TSLN  ERM  ...  CME  PTCR  \\\n",
              "0   1             1   1     0   0   0    0     0     1    0  ...    0     0   \n",
              "1   2             1   1     0   0   0    0     1     0    0  ...    0     0   \n",
              "2   3             1   1     0   0   0    0     0     0    0  ...    0     0   \n",
              "3   4             1   0     0   0   0    0     0     0    0  ...    0     0   \n",
              "4   5             1   0     0   0   0    0     0     0    0  ...    0     0   \n",
              "\n",
              "   CF  VH  MCA  VS  BRAO  PLQ  HPED  CL  \n",
              "0   0   0    0   0     0    0     0   0  \n",
              "1   0   0    0   0     0    0     0   0  \n",
              "2   0   0    0   0     0    0     0   0  \n",
              "3   0   0    0   0     0    0     0   0  \n",
              "4   0   0    0   0     0    0     0   0  \n",
              "\n",
              "[5 rows x 47 columns]"
            ],
            "text/html": [
              "\n",
              "  <div id=\"df-fcfde2f1-f296-477b-a73e-5da21f00702b\">\n",
              "    <div class=\"colab-df-container\">\n",
              "      <div>\n",
              "<style scoped>\n",
              "    .dataframe tbody tr th:only-of-type {\n",
              "        vertical-align: middle;\n",
              "    }\n",
              "\n",
              "    .dataframe tbody tr th {\n",
              "        vertical-align: top;\n",
              "    }\n",
              "\n",
              "    .dataframe thead th {\n",
              "        text-align: right;\n",
              "    }\n",
              "</style>\n",
              "<table border=\"1\" class=\"dataframe\">\n",
              "  <thead>\n",
              "    <tr style=\"text-align: right;\">\n",
              "      <th></th>\n",
              "      <th>ID</th>\n",
              "      <th>Disease_Risk</th>\n",
              "      <th>DR</th>\n",
              "      <th>ARMD</th>\n",
              "      <th>MH</th>\n",
              "      <th>DN</th>\n",
              "      <th>MYA</th>\n",
              "      <th>BRVO</th>\n",
              "      <th>TSLN</th>\n",
              "      <th>ERM</th>\n",
              "      <th>...</th>\n",
              "      <th>CME</th>\n",
              "      <th>PTCR</th>\n",
              "      <th>CF</th>\n",
              "      <th>VH</th>\n",
              "      <th>MCA</th>\n",
              "      <th>VS</th>\n",
              "      <th>BRAO</th>\n",
              "      <th>PLQ</th>\n",
              "      <th>HPED</th>\n",
              "      <th>CL</th>\n",
              "    </tr>\n",
              "  </thead>\n",
              "  <tbody>\n",
              "    <tr>\n",
              "      <th>0</th>\n",
              "      <td>1</td>\n",
              "      <td>1</td>\n",
              "      <td>1</td>\n",
              "      <td>0</td>\n",
              "      <td>0</td>\n",
              "      <td>0</td>\n",
              "      <td>0</td>\n",
              "      <td>0</td>\n",
              "      <td>1</td>\n",
              "      <td>0</td>\n",
              "      <td>...</td>\n",
              "      <td>0</td>\n",
              "      <td>0</td>\n",
              "      <td>0</td>\n",
              "      <td>0</td>\n",
              "      <td>0</td>\n",
              "      <td>0</td>\n",
              "      <td>0</td>\n",
              "      <td>0</td>\n",
              "      <td>0</td>\n",
              "      <td>0</td>\n",
              "    </tr>\n",
              "    <tr>\n",
              "      <th>1</th>\n",
              "      <td>2</td>\n",
              "      <td>1</td>\n",
              "      <td>1</td>\n",
              "      <td>0</td>\n",
              "      <td>0</td>\n",
              "      <td>0</td>\n",
              "      <td>0</td>\n",
              "      <td>1</td>\n",
              "      <td>0</td>\n",
              "      <td>0</td>\n",
              "      <td>...</td>\n",
              "      <td>0</td>\n",
              "      <td>0</td>\n",
              "      <td>0</td>\n",
              "      <td>0</td>\n",
              "      <td>0</td>\n",
              "      <td>0</td>\n",
              "      <td>0</td>\n",
              "      <td>0</td>\n",
              "      <td>0</td>\n",
              "      <td>0</td>\n",
              "    </tr>\n",
              "    <tr>\n",
              "      <th>2</th>\n",
              "      <td>3</td>\n",
              "      <td>1</td>\n",
              "      <td>1</td>\n",
              "      <td>0</td>\n",
              "      <td>0</td>\n",
              "      <td>0</td>\n",
              "      <td>0</td>\n",
              "      <td>0</td>\n",
              "      <td>0</td>\n",
              "      <td>0</td>\n",
              "      <td>...</td>\n",
              "      <td>0</td>\n",
              "      <td>0</td>\n",
              "      <td>0</td>\n",
              "      <td>0</td>\n",
              "      <td>0</td>\n",
              "      <td>0</td>\n",
              "      <td>0</td>\n",
              "      <td>0</td>\n",
              "      <td>0</td>\n",
              "      <td>0</td>\n",
              "    </tr>\n",
              "    <tr>\n",
              "      <th>3</th>\n",
              "      <td>4</td>\n",
              "      <td>1</td>\n",
              "      <td>0</td>\n",
              "      <td>0</td>\n",
              "      <td>0</td>\n",
              "      <td>0</td>\n",
              "      <td>0</td>\n",
              "      <td>0</td>\n",
              "      <td>0</td>\n",
              "      <td>0</td>\n",
              "      <td>...</td>\n",
              "      <td>0</td>\n",
              "      <td>0</td>\n",
              "      <td>0</td>\n",
              "      <td>0</td>\n",
              "      <td>0</td>\n",
              "      <td>0</td>\n",
              "      <td>0</td>\n",
              "      <td>0</td>\n",
              "      <td>0</td>\n",
              "      <td>0</td>\n",
              "    </tr>\n",
              "    <tr>\n",
              "      <th>4</th>\n",
              "      <td>5</td>\n",
              "      <td>1</td>\n",
              "      <td>0</td>\n",
              "      <td>0</td>\n",
              "      <td>0</td>\n",
              "      <td>0</td>\n",
              "      <td>0</td>\n",
              "      <td>0</td>\n",
              "      <td>0</td>\n",
              "      <td>0</td>\n",
              "      <td>...</td>\n",
              "      <td>0</td>\n",
              "      <td>0</td>\n",
              "      <td>0</td>\n",
              "      <td>0</td>\n",
              "      <td>0</td>\n",
              "      <td>0</td>\n",
              "      <td>0</td>\n",
              "      <td>0</td>\n",
              "      <td>0</td>\n",
              "      <td>0</td>\n",
              "    </tr>\n",
              "  </tbody>\n",
              "</table>\n",
              "<p>5 rows × 47 columns</p>\n",
              "</div>\n",
              "      <button class=\"colab-df-convert\" onclick=\"convertToInteractive('df-fcfde2f1-f296-477b-a73e-5da21f00702b')\"\n",
              "              title=\"Convert this dataframe to an interactive table.\"\n",
              "              style=\"display:none;\">\n",
              "        \n",
              "  <svg xmlns=\"http://www.w3.org/2000/svg\" height=\"24px\"viewBox=\"0 0 24 24\"\n",
              "       width=\"24px\">\n",
              "    <path d=\"M0 0h24v24H0V0z\" fill=\"none\"/>\n",
              "    <path d=\"M18.56 5.44l.94 2.06.94-2.06 2.06-.94-2.06-.94-.94-2.06-.94 2.06-2.06.94zm-11 1L8.5 8.5l.94-2.06 2.06-.94-2.06-.94L8.5 2.5l-.94 2.06-2.06.94zm10 10l.94 2.06.94-2.06 2.06-.94-2.06-.94-.94-2.06-.94 2.06-2.06.94z\"/><path d=\"M17.41 7.96l-1.37-1.37c-.4-.4-.92-.59-1.43-.59-.52 0-1.04.2-1.43.59L10.3 9.45l-7.72 7.72c-.78.78-.78 2.05 0 2.83L4 21.41c.39.39.9.59 1.41.59.51 0 1.02-.2 1.41-.59l7.78-7.78 2.81-2.81c.8-.78.8-2.07 0-2.86zM5.41 20L4 18.59l7.72-7.72 1.47 1.35L5.41 20z\"/>\n",
              "  </svg>\n",
              "      </button>\n",
              "      \n",
              "  <style>\n",
              "    .colab-df-container {\n",
              "      display:flex;\n",
              "      flex-wrap:wrap;\n",
              "      gap: 12px;\n",
              "    }\n",
              "\n",
              "    .colab-df-convert {\n",
              "      background-color: #E8F0FE;\n",
              "      border: none;\n",
              "      border-radius: 50%;\n",
              "      cursor: pointer;\n",
              "      display: none;\n",
              "      fill: #1967D2;\n",
              "      height: 32px;\n",
              "      padding: 0 0 0 0;\n",
              "      width: 32px;\n",
              "    }\n",
              "\n",
              "    .colab-df-convert:hover {\n",
              "      background-color: #E2EBFA;\n",
              "      box-shadow: 0px 1px 2px rgba(60, 64, 67, 0.3), 0px 1px 3px 1px rgba(60, 64, 67, 0.15);\n",
              "      fill: #174EA6;\n",
              "    }\n",
              "\n",
              "    [theme=dark] .colab-df-convert {\n",
              "      background-color: #3B4455;\n",
              "      fill: #D2E3FC;\n",
              "    }\n",
              "\n",
              "    [theme=dark] .colab-df-convert:hover {\n",
              "      background-color: #434B5C;\n",
              "      box-shadow: 0px 1px 3px 1px rgba(0, 0, 0, 0.15);\n",
              "      filter: drop-shadow(0px 1px 2px rgba(0, 0, 0, 0.3));\n",
              "      fill: #FFFFFF;\n",
              "    }\n",
              "  </style>\n",
              "\n",
              "      <script>\n",
              "        const buttonEl =\n",
              "          document.querySelector('#df-fcfde2f1-f296-477b-a73e-5da21f00702b button.colab-df-convert');\n",
              "        buttonEl.style.display =\n",
              "          google.colab.kernel.accessAllowed ? 'block' : 'none';\n",
              "\n",
              "        async function convertToInteractive(key) {\n",
              "          const element = document.querySelector('#df-fcfde2f1-f296-477b-a73e-5da21f00702b');\n",
              "          const dataTable =\n",
              "            await google.colab.kernel.invokeFunction('convertToInteractive',\n",
              "                                                     [key], {});\n",
              "          if (!dataTable) return;\n",
              "\n",
              "          const docLinkHtml = 'Like what you see? Visit the ' +\n",
              "            '<a target=\"_blank\" href=https://colab.research.google.com/notebooks/data_table.ipynb>data table notebook</a>'\n",
              "            + ' to learn more about interactive tables.';\n",
              "          element.innerHTML = '';\n",
              "          dataTable['output_type'] = 'display_data';\n",
              "          await google.colab.output.renderOutput(dataTable, element);\n",
              "          const docLink = document.createElement('div');\n",
              "          docLink.innerHTML = docLinkHtml;\n",
              "          element.appendChild(docLink);\n",
              "        }\n",
              "      </script>\n",
              "    </div>\n",
              "  </div>\n",
              "  "
            ]
          },
          "metadata": {},
          "execution_count": 25
        }
      ]
    },
    {
      "cell_type": "code",
      "source": [
        "Val_df.head()"
      ],
      "metadata": {
        "colab": {
          "base_uri": "https://localhost:8080/",
          "height": 236
        },
        "id": "UrQ1v-N00xDR",
        "outputId": "8a8c6f98-e506-4558-9e6e-a79404a1873f"
      },
      "execution_count": 26,
      "outputs": [
        {
          "output_type": "execute_result",
          "data": {
            "text/plain": [
              "   ID  Disease_Risk  DR  ARMD  MH  DN  MYA  BRVO  TSLN  ERM  ...  CME  PTCR  \\\n",
              "0   1             1   1     0   0   0    0     0     1    0  ...    0     0   \n",
              "1   2             1   0     0   0   0    0     0     0    0  ...    0     0   \n",
              "2   3             1   0     0   0   0    0     0     0    0  ...    0     0   \n",
              "3   4             1   0     0   0   0    0     0     0    0  ...    0     0   \n",
              "4   5             1   0     0   0   0    0     0     0    0  ...    0     0   \n",
              "\n",
              "   CF  VH  MCA  VS  BRAO  PLQ  HPED  CL  \n",
              "0   0   0    0   0     0    0     0   0  \n",
              "1   0   0    0   0     0    0     0   0  \n",
              "2   0   0    0   0     0    0     0   0  \n",
              "3   0   0    0   0     0    0     0   0  \n",
              "4   0   0    0   0     0    0     0   0  \n",
              "\n",
              "[5 rows x 47 columns]"
            ],
            "text/html": [
              "\n",
              "  <div id=\"df-aa83e75b-bb30-4d96-87db-09de1a65aa95\">\n",
              "    <div class=\"colab-df-container\">\n",
              "      <div>\n",
              "<style scoped>\n",
              "    .dataframe tbody tr th:only-of-type {\n",
              "        vertical-align: middle;\n",
              "    }\n",
              "\n",
              "    .dataframe tbody tr th {\n",
              "        vertical-align: top;\n",
              "    }\n",
              "\n",
              "    .dataframe thead th {\n",
              "        text-align: right;\n",
              "    }\n",
              "</style>\n",
              "<table border=\"1\" class=\"dataframe\">\n",
              "  <thead>\n",
              "    <tr style=\"text-align: right;\">\n",
              "      <th></th>\n",
              "      <th>ID</th>\n",
              "      <th>Disease_Risk</th>\n",
              "      <th>DR</th>\n",
              "      <th>ARMD</th>\n",
              "      <th>MH</th>\n",
              "      <th>DN</th>\n",
              "      <th>MYA</th>\n",
              "      <th>BRVO</th>\n",
              "      <th>TSLN</th>\n",
              "      <th>ERM</th>\n",
              "      <th>...</th>\n",
              "      <th>CME</th>\n",
              "      <th>PTCR</th>\n",
              "      <th>CF</th>\n",
              "      <th>VH</th>\n",
              "      <th>MCA</th>\n",
              "      <th>VS</th>\n",
              "      <th>BRAO</th>\n",
              "      <th>PLQ</th>\n",
              "      <th>HPED</th>\n",
              "      <th>CL</th>\n",
              "    </tr>\n",
              "  </thead>\n",
              "  <tbody>\n",
              "    <tr>\n",
              "      <th>0</th>\n",
              "      <td>1</td>\n",
              "      <td>1</td>\n",
              "      <td>1</td>\n",
              "      <td>0</td>\n",
              "      <td>0</td>\n",
              "      <td>0</td>\n",
              "      <td>0</td>\n",
              "      <td>0</td>\n",
              "      <td>1</td>\n",
              "      <td>0</td>\n",
              "      <td>...</td>\n",
              "      <td>0</td>\n",
              "      <td>0</td>\n",
              "      <td>0</td>\n",
              "      <td>0</td>\n",
              "      <td>0</td>\n",
              "      <td>0</td>\n",
              "      <td>0</td>\n",
              "      <td>0</td>\n",
              "      <td>0</td>\n",
              "      <td>0</td>\n",
              "    </tr>\n",
              "    <tr>\n",
              "      <th>1</th>\n",
              "      <td>2</td>\n",
              "      <td>1</td>\n",
              "      <td>0</td>\n",
              "      <td>0</td>\n",
              "      <td>0</td>\n",
              "      <td>0</td>\n",
              "      <td>0</td>\n",
              "      <td>0</td>\n",
              "      <td>0</td>\n",
              "      <td>0</td>\n",
              "      <td>...</td>\n",
              "      <td>0</td>\n",
              "      <td>0</td>\n",
              "      <td>0</td>\n",
              "      <td>0</td>\n",
              "      <td>0</td>\n",
              "      <td>0</td>\n",
              "      <td>0</td>\n",
              "      <td>0</td>\n",
              "      <td>0</td>\n",
              "      <td>0</td>\n",
              "    </tr>\n",
              "    <tr>\n",
              "      <th>2</th>\n",
              "      <td>3</td>\n",
              "      <td>1</td>\n",
              "      <td>0</td>\n",
              "      <td>0</td>\n",
              "      <td>0</td>\n",
              "      <td>0</td>\n",
              "      <td>0</td>\n",
              "      <td>0</td>\n",
              "      <td>0</td>\n",
              "      <td>0</td>\n",
              "      <td>...</td>\n",
              "      <td>0</td>\n",
              "      <td>0</td>\n",
              "      <td>0</td>\n",
              "      <td>0</td>\n",
              "      <td>0</td>\n",
              "      <td>0</td>\n",
              "      <td>0</td>\n",
              "      <td>0</td>\n",
              "      <td>0</td>\n",
              "      <td>0</td>\n",
              "    </tr>\n",
              "    <tr>\n",
              "      <th>3</th>\n",
              "      <td>4</td>\n",
              "      <td>1</td>\n",
              "      <td>0</td>\n",
              "      <td>0</td>\n",
              "      <td>0</td>\n",
              "      <td>0</td>\n",
              "      <td>0</td>\n",
              "      <td>0</td>\n",
              "      <td>0</td>\n",
              "      <td>0</td>\n",
              "      <td>...</td>\n",
              "      <td>0</td>\n",
              "      <td>0</td>\n",
              "      <td>0</td>\n",
              "      <td>0</td>\n",
              "      <td>0</td>\n",
              "      <td>0</td>\n",
              "      <td>0</td>\n",
              "      <td>0</td>\n",
              "      <td>0</td>\n",
              "      <td>0</td>\n",
              "    </tr>\n",
              "    <tr>\n",
              "      <th>4</th>\n",
              "      <td>5</td>\n",
              "      <td>1</td>\n",
              "      <td>0</td>\n",
              "      <td>0</td>\n",
              "      <td>0</td>\n",
              "      <td>0</td>\n",
              "      <td>0</td>\n",
              "      <td>0</td>\n",
              "      <td>0</td>\n",
              "      <td>0</td>\n",
              "      <td>...</td>\n",
              "      <td>0</td>\n",
              "      <td>0</td>\n",
              "      <td>0</td>\n",
              "      <td>0</td>\n",
              "      <td>0</td>\n",
              "      <td>0</td>\n",
              "      <td>0</td>\n",
              "      <td>0</td>\n",
              "      <td>0</td>\n",
              "      <td>0</td>\n",
              "    </tr>\n",
              "  </tbody>\n",
              "</table>\n",
              "<p>5 rows × 47 columns</p>\n",
              "</div>\n",
              "      <button class=\"colab-df-convert\" onclick=\"convertToInteractive('df-aa83e75b-bb30-4d96-87db-09de1a65aa95')\"\n",
              "              title=\"Convert this dataframe to an interactive table.\"\n",
              "              style=\"display:none;\">\n",
              "        \n",
              "  <svg xmlns=\"http://www.w3.org/2000/svg\" height=\"24px\"viewBox=\"0 0 24 24\"\n",
              "       width=\"24px\">\n",
              "    <path d=\"M0 0h24v24H0V0z\" fill=\"none\"/>\n",
              "    <path d=\"M18.56 5.44l.94 2.06.94-2.06 2.06-.94-2.06-.94-.94-2.06-.94 2.06-2.06.94zm-11 1L8.5 8.5l.94-2.06 2.06-.94-2.06-.94L8.5 2.5l-.94 2.06-2.06.94zm10 10l.94 2.06.94-2.06 2.06-.94-2.06-.94-.94-2.06-.94 2.06-2.06.94z\"/><path d=\"M17.41 7.96l-1.37-1.37c-.4-.4-.92-.59-1.43-.59-.52 0-1.04.2-1.43.59L10.3 9.45l-7.72 7.72c-.78.78-.78 2.05 0 2.83L4 21.41c.39.39.9.59 1.41.59.51 0 1.02-.2 1.41-.59l7.78-7.78 2.81-2.81c.8-.78.8-2.07 0-2.86zM5.41 20L4 18.59l7.72-7.72 1.47 1.35L5.41 20z\"/>\n",
              "  </svg>\n",
              "      </button>\n",
              "      \n",
              "  <style>\n",
              "    .colab-df-container {\n",
              "      display:flex;\n",
              "      flex-wrap:wrap;\n",
              "      gap: 12px;\n",
              "    }\n",
              "\n",
              "    .colab-df-convert {\n",
              "      background-color: #E8F0FE;\n",
              "      border: none;\n",
              "      border-radius: 50%;\n",
              "      cursor: pointer;\n",
              "      display: none;\n",
              "      fill: #1967D2;\n",
              "      height: 32px;\n",
              "      padding: 0 0 0 0;\n",
              "      width: 32px;\n",
              "    }\n",
              "\n",
              "    .colab-df-convert:hover {\n",
              "      background-color: #E2EBFA;\n",
              "      box-shadow: 0px 1px 2px rgba(60, 64, 67, 0.3), 0px 1px 3px 1px rgba(60, 64, 67, 0.15);\n",
              "      fill: #174EA6;\n",
              "    }\n",
              "\n",
              "    [theme=dark] .colab-df-convert {\n",
              "      background-color: #3B4455;\n",
              "      fill: #D2E3FC;\n",
              "    }\n",
              "\n",
              "    [theme=dark] .colab-df-convert:hover {\n",
              "      background-color: #434B5C;\n",
              "      box-shadow: 0px 1px 3px 1px rgba(0, 0, 0, 0.15);\n",
              "      filter: drop-shadow(0px 1px 2px rgba(0, 0, 0, 0.3));\n",
              "      fill: #FFFFFF;\n",
              "    }\n",
              "  </style>\n",
              "\n",
              "      <script>\n",
              "        const buttonEl =\n",
              "          document.querySelector('#df-aa83e75b-bb30-4d96-87db-09de1a65aa95 button.colab-df-convert');\n",
              "        buttonEl.style.display =\n",
              "          google.colab.kernel.accessAllowed ? 'block' : 'none';\n",
              "\n",
              "        async function convertToInteractive(key) {\n",
              "          const element = document.querySelector('#df-aa83e75b-bb30-4d96-87db-09de1a65aa95');\n",
              "          const dataTable =\n",
              "            await google.colab.kernel.invokeFunction('convertToInteractive',\n",
              "                                                     [key], {});\n",
              "          if (!dataTable) return;\n",
              "\n",
              "          const docLinkHtml = 'Like what you see? Visit the ' +\n",
              "            '<a target=\"_blank\" href=https://colab.research.google.com/notebooks/data_table.ipynb>data table notebook</a>'\n",
              "            + ' to learn more about interactive tables.';\n",
              "          element.innerHTML = '';\n",
              "          dataTable['output_type'] = 'display_data';\n",
              "          await google.colab.output.renderOutput(dataTable, element);\n",
              "          const docLink = document.createElement('div');\n",
              "          docLink.innerHTML = docLinkHtml;\n",
              "          element.appendChild(docLink);\n",
              "        }\n",
              "      </script>\n",
              "    </div>\n",
              "  </div>\n",
              "  "
            ]
          },
          "metadata": {},
          "execution_count": 26
        }
      ]
    },
    {
      "cell_type": "code",
      "source": [
        "Train_df.drop(columns=Train_df.columns[3:],axis=1,inplace=True)\n",
        "Test_df.drop(columns=Test_df.columns[3:],axis=1,inplace=True)\n",
        "Val_df.drop(columns=Val_df.columns[3:],axis=1,inplace=True)"
      ],
      "metadata": {
        "id": "zVglssDk0yPX"
      },
      "execution_count": 27,
      "outputs": []
    },
    {
      "cell_type": "code",
      "source": [
        "Train_df.drop(columns=['Disease_Risk'],axis=1,inplace=True)\n",
        "Test_df.drop(columns=['Disease_Risk'],axis=1,inplace=True)\n",
        "Val_df.drop(columns=['Disease_Risk'],axis=1,inplace=True)"
      ],
      "metadata": {
        "id": "pthPkS_61BAO"
      },
      "execution_count": 28,
      "outputs": []
    },
    {
      "cell_type": "code",
      "source": [
        "Train_df.head()"
      ],
      "metadata": {
        "colab": {
          "base_uri": "https://localhost:8080/",
          "height": 206
        },
        "id": "cCcW7gZb1J_5",
        "outputId": "74dc9430-0f19-4d88-9f5a-a41349f2ca4d"
      },
      "execution_count": 29,
      "outputs": [
        {
          "output_type": "execute_result",
          "data": {
            "text/plain": [
              "   ID  DR\n",
              "0   1   1\n",
              "1   2   1\n",
              "2   3   1\n",
              "3   4   0\n",
              "4   5   1"
            ],
            "text/html": [
              "\n",
              "  <div id=\"df-8988f6a0-0036-4962-96c8-a200903ad9bc\">\n",
              "    <div class=\"colab-df-container\">\n",
              "      <div>\n",
              "<style scoped>\n",
              "    .dataframe tbody tr th:only-of-type {\n",
              "        vertical-align: middle;\n",
              "    }\n",
              "\n",
              "    .dataframe tbody tr th {\n",
              "        vertical-align: top;\n",
              "    }\n",
              "\n",
              "    .dataframe thead th {\n",
              "        text-align: right;\n",
              "    }\n",
              "</style>\n",
              "<table border=\"1\" class=\"dataframe\">\n",
              "  <thead>\n",
              "    <tr style=\"text-align: right;\">\n",
              "      <th></th>\n",
              "      <th>ID</th>\n",
              "      <th>DR</th>\n",
              "    </tr>\n",
              "  </thead>\n",
              "  <tbody>\n",
              "    <tr>\n",
              "      <th>0</th>\n",
              "      <td>1</td>\n",
              "      <td>1</td>\n",
              "    </tr>\n",
              "    <tr>\n",
              "      <th>1</th>\n",
              "      <td>2</td>\n",
              "      <td>1</td>\n",
              "    </tr>\n",
              "    <tr>\n",
              "      <th>2</th>\n",
              "      <td>3</td>\n",
              "      <td>1</td>\n",
              "    </tr>\n",
              "    <tr>\n",
              "      <th>3</th>\n",
              "      <td>4</td>\n",
              "      <td>0</td>\n",
              "    </tr>\n",
              "    <tr>\n",
              "      <th>4</th>\n",
              "      <td>5</td>\n",
              "      <td>1</td>\n",
              "    </tr>\n",
              "  </tbody>\n",
              "</table>\n",
              "</div>\n",
              "      <button class=\"colab-df-convert\" onclick=\"convertToInteractive('df-8988f6a0-0036-4962-96c8-a200903ad9bc')\"\n",
              "              title=\"Convert this dataframe to an interactive table.\"\n",
              "              style=\"display:none;\">\n",
              "        \n",
              "  <svg xmlns=\"http://www.w3.org/2000/svg\" height=\"24px\"viewBox=\"0 0 24 24\"\n",
              "       width=\"24px\">\n",
              "    <path d=\"M0 0h24v24H0V0z\" fill=\"none\"/>\n",
              "    <path d=\"M18.56 5.44l.94 2.06.94-2.06 2.06-.94-2.06-.94-.94-2.06-.94 2.06-2.06.94zm-11 1L8.5 8.5l.94-2.06 2.06-.94-2.06-.94L8.5 2.5l-.94 2.06-2.06.94zm10 10l.94 2.06.94-2.06 2.06-.94-2.06-.94-.94-2.06-.94 2.06-2.06.94z\"/><path d=\"M17.41 7.96l-1.37-1.37c-.4-.4-.92-.59-1.43-.59-.52 0-1.04.2-1.43.59L10.3 9.45l-7.72 7.72c-.78.78-.78 2.05 0 2.83L4 21.41c.39.39.9.59 1.41.59.51 0 1.02-.2 1.41-.59l7.78-7.78 2.81-2.81c.8-.78.8-2.07 0-2.86zM5.41 20L4 18.59l7.72-7.72 1.47 1.35L5.41 20z\"/>\n",
              "  </svg>\n",
              "      </button>\n",
              "      \n",
              "  <style>\n",
              "    .colab-df-container {\n",
              "      display:flex;\n",
              "      flex-wrap:wrap;\n",
              "      gap: 12px;\n",
              "    }\n",
              "\n",
              "    .colab-df-convert {\n",
              "      background-color: #E8F0FE;\n",
              "      border: none;\n",
              "      border-radius: 50%;\n",
              "      cursor: pointer;\n",
              "      display: none;\n",
              "      fill: #1967D2;\n",
              "      height: 32px;\n",
              "      padding: 0 0 0 0;\n",
              "      width: 32px;\n",
              "    }\n",
              "\n",
              "    .colab-df-convert:hover {\n",
              "      background-color: #E2EBFA;\n",
              "      box-shadow: 0px 1px 2px rgba(60, 64, 67, 0.3), 0px 1px 3px 1px rgba(60, 64, 67, 0.15);\n",
              "      fill: #174EA6;\n",
              "    }\n",
              "\n",
              "    [theme=dark] .colab-df-convert {\n",
              "      background-color: #3B4455;\n",
              "      fill: #D2E3FC;\n",
              "    }\n",
              "\n",
              "    [theme=dark] .colab-df-convert:hover {\n",
              "      background-color: #434B5C;\n",
              "      box-shadow: 0px 1px 3px 1px rgba(0, 0, 0, 0.15);\n",
              "      filter: drop-shadow(0px 1px 2px rgba(0, 0, 0, 0.3));\n",
              "      fill: #FFFFFF;\n",
              "    }\n",
              "  </style>\n",
              "\n",
              "      <script>\n",
              "        const buttonEl =\n",
              "          document.querySelector('#df-8988f6a0-0036-4962-96c8-a200903ad9bc button.colab-df-convert');\n",
              "        buttonEl.style.display =\n",
              "          google.colab.kernel.accessAllowed ? 'block' : 'none';\n",
              "\n",
              "        async function convertToInteractive(key) {\n",
              "          const element = document.querySelector('#df-8988f6a0-0036-4962-96c8-a200903ad9bc');\n",
              "          const dataTable =\n",
              "            await google.colab.kernel.invokeFunction('convertToInteractive',\n",
              "                                                     [key], {});\n",
              "          if (!dataTable) return;\n",
              "\n",
              "          const docLinkHtml = 'Like what you see? Visit the ' +\n",
              "            '<a target=\"_blank\" href=https://colab.research.google.com/notebooks/data_table.ipynb>data table notebook</a>'\n",
              "            + ' to learn more about interactive tables.';\n",
              "          element.innerHTML = '';\n",
              "          dataTable['output_type'] = 'display_data';\n",
              "          await google.colab.output.renderOutput(dataTable, element);\n",
              "          const docLink = document.createElement('div');\n",
              "          docLink.innerHTML = docLinkHtml;\n",
              "          element.appendChild(docLink);\n",
              "        }\n",
              "      </script>\n",
              "    </div>\n",
              "  </div>\n",
              "  "
            ]
          },
          "metadata": {},
          "execution_count": 29
        }
      ]
    },
    {
      "cell_type": "code",
      "source": [
        "Test_df.head()"
      ],
      "metadata": {
        "colab": {
          "base_uri": "https://localhost:8080/",
          "height": 206
        },
        "id": "cuq6yRSr1LUv",
        "outputId": "347dc8f5-4f67-4f0b-91c0-6233c12c7f96"
      },
      "execution_count": 30,
      "outputs": [
        {
          "output_type": "execute_result",
          "data": {
            "text/plain": [
              "   ID  DR\n",
              "0   1   1\n",
              "1   2   1\n",
              "2   3   1\n",
              "3   4   0\n",
              "4   5   0"
            ],
            "text/html": [
              "\n",
              "  <div id=\"df-334f5915-75f5-4557-a02e-656bcc1293fc\">\n",
              "    <div class=\"colab-df-container\">\n",
              "      <div>\n",
              "<style scoped>\n",
              "    .dataframe tbody tr th:only-of-type {\n",
              "        vertical-align: middle;\n",
              "    }\n",
              "\n",
              "    .dataframe tbody tr th {\n",
              "        vertical-align: top;\n",
              "    }\n",
              "\n",
              "    .dataframe thead th {\n",
              "        text-align: right;\n",
              "    }\n",
              "</style>\n",
              "<table border=\"1\" class=\"dataframe\">\n",
              "  <thead>\n",
              "    <tr style=\"text-align: right;\">\n",
              "      <th></th>\n",
              "      <th>ID</th>\n",
              "      <th>DR</th>\n",
              "    </tr>\n",
              "  </thead>\n",
              "  <tbody>\n",
              "    <tr>\n",
              "      <th>0</th>\n",
              "      <td>1</td>\n",
              "      <td>1</td>\n",
              "    </tr>\n",
              "    <tr>\n",
              "      <th>1</th>\n",
              "      <td>2</td>\n",
              "      <td>1</td>\n",
              "    </tr>\n",
              "    <tr>\n",
              "      <th>2</th>\n",
              "      <td>3</td>\n",
              "      <td>1</td>\n",
              "    </tr>\n",
              "    <tr>\n",
              "      <th>3</th>\n",
              "      <td>4</td>\n",
              "      <td>0</td>\n",
              "    </tr>\n",
              "    <tr>\n",
              "      <th>4</th>\n",
              "      <td>5</td>\n",
              "      <td>0</td>\n",
              "    </tr>\n",
              "  </tbody>\n",
              "</table>\n",
              "</div>\n",
              "      <button class=\"colab-df-convert\" onclick=\"convertToInteractive('df-334f5915-75f5-4557-a02e-656bcc1293fc')\"\n",
              "              title=\"Convert this dataframe to an interactive table.\"\n",
              "              style=\"display:none;\">\n",
              "        \n",
              "  <svg xmlns=\"http://www.w3.org/2000/svg\" height=\"24px\"viewBox=\"0 0 24 24\"\n",
              "       width=\"24px\">\n",
              "    <path d=\"M0 0h24v24H0V0z\" fill=\"none\"/>\n",
              "    <path d=\"M18.56 5.44l.94 2.06.94-2.06 2.06-.94-2.06-.94-.94-2.06-.94 2.06-2.06.94zm-11 1L8.5 8.5l.94-2.06 2.06-.94-2.06-.94L8.5 2.5l-.94 2.06-2.06.94zm10 10l.94 2.06.94-2.06 2.06-.94-2.06-.94-.94-2.06-.94 2.06-2.06.94z\"/><path d=\"M17.41 7.96l-1.37-1.37c-.4-.4-.92-.59-1.43-.59-.52 0-1.04.2-1.43.59L10.3 9.45l-7.72 7.72c-.78.78-.78 2.05 0 2.83L4 21.41c.39.39.9.59 1.41.59.51 0 1.02-.2 1.41-.59l7.78-7.78 2.81-2.81c.8-.78.8-2.07 0-2.86zM5.41 20L4 18.59l7.72-7.72 1.47 1.35L5.41 20z\"/>\n",
              "  </svg>\n",
              "      </button>\n",
              "      \n",
              "  <style>\n",
              "    .colab-df-container {\n",
              "      display:flex;\n",
              "      flex-wrap:wrap;\n",
              "      gap: 12px;\n",
              "    }\n",
              "\n",
              "    .colab-df-convert {\n",
              "      background-color: #E8F0FE;\n",
              "      border: none;\n",
              "      border-radius: 50%;\n",
              "      cursor: pointer;\n",
              "      display: none;\n",
              "      fill: #1967D2;\n",
              "      height: 32px;\n",
              "      padding: 0 0 0 0;\n",
              "      width: 32px;\n",
              "    }\n",
              "\n",
              "    .colab-df-convert:hover {\n",
              "      background-color: #E2EBFA;\n",
              "      box-shadow: 0px 1px 2px rgba(60, 64, 67, 0.3), 0px 1px 3px 1px rgba(60, 64, 67, 0.15);\n",
              "      fill: #174EA6;\n",
              "    }\n",
              "\n",
              "    [theme=dark] .colab-df-convert {\n",
              "      background-color: #3B4455;\n",
              "      fill: #D2E3FC;\n",
              "    }\n",
              "\n",
              "    [theme=dark] .colab-df-convert:hover {\n",
              "      background-color: #434B5C;\n",
              "      box-shadow: 0px 1px 3px 1px rgba(0, 0, 0, 0.15);\n",
              "      filter: drop-shadow(0px 1px 2px rgba(0, 0, 0, 0.3));\n",
              "      fill: #FFFFFF;\n",
              "    }\n",
              "  </style>\n",
              "\n",
              "      <script>\n",
              "        const buttonEl =\n",
              "          document.querySelector('#df-334f5915-75f5-4557-a02e-656bcc1293fc button.colab-df-convert');\n",
              "        buttonEl.style.display =\n",
              "          google.colab.kernel.accessAllowed ? 'block' : 'none';\n",
              "\n",
              "        async function convertToInteractive(key) {\n",
              "          const element = document.querySelector('#df-334f5915-75f5-4557-a02e-656bcc1293fc');\n",
              "          const dataTable =\n",
              "            await google.colab.kernel.invokeFunction('convertToInteractive',\n",
              "                                                     [key], {});\n",
              "          if (!dataTable) return;\n",
              "\n",
              "          const docLinkHtml = 'Like what you see? Visit the ' +\n",
              "            '<a target=\"_blank\" href=https://colab.research.google.com/notebooks/data_table.ipynb>data table notebook</a>'\n",
              "            + ' to learn more about interactive tables.';\n",
              "          element.innerHTML = '';\n",
              "          dataTable['output_type'] = 'display_data';\n",
              "          await google.colab.output.renderOutput(dataTable, element);\n",
              "          const docLink = document.createElement('div');\n",
              "          docLink.innerHTML = docLinkHtml;\n",
              "          element.appendChild(docLink);\n",
              "        }\n",
              "      </script>\n",
              "    </div>\n",
              "  </div>\n",
              "  "
            ]
          },
          "metadata": {},
          "execution_count": 30
        }
      ]
    },
    {
      "cell_type": "code",
      "source": [
        "Val_df.head()"
      ],
      "metadata": {
        "colab": {
          "base_uri": "https://localhost:8080/",
          "height": 206
        },
        "id": "ugEvpyue1L7c",
        "outputId": "6f9cdd65-7582-448b-ac8a-cfe1f4a12d9f"
      },
      "execution_count": 31,
      "outputs": [
        {
          "output_type": "execute_result",
          "data": {
            "text/plain": [
              "   ID  DR\n",
              "0   1   1\n",
              "1   2   0\n",
              "2   3   0\n",
              "3   4   0\n",
              "4   5   0"
            ],
            "text/html": [
              "\n",
              "  <div id=\"df-708fa13b-b954-457a-8b74-2f80230cccd3\">\n",
              "    <div class=\"colab-df-container\">\n",
              "      <div>\n",
              "<style scoped>\n",
              "    .dataframe tbody tr th:only-of-type {\n",
              "        vertical-align: middle;\n",
              "    }\n",
              "\n",
              "    .dataframe tbody tr th {\n",
              "        vertical-align: top;\n",
              "    }\n",
              "\n",
              "    .dataframe thead th {\n",
              "        text-align: right;\n",
              "    }\n",
              "</style>\n",
              "<table border=\"1\" class=\"dataframe\">\n",
              "  <thead>\n",
              "    <tr style=\"text-align: right;\">\n",
              "      <th></th>\n",
              "      <th>ID</th>\n",
              "      <th>DR</th>\n",
              "    </tr>\n",
              "  </thead>\n",
              "  <tbody>\n",
              "    <tr>\n",
              "      <th>0</th>\n",
              "      <td>1</td>\n",
              "      <td>1</td>\n",
              "    </tr>\n",
              "    <tr>\n",
              "      <th>1</th>\n",
              "      <td>2</td>\n",
              "      <td>0</td>\n",
              "    </tr>\n",
              "    <tr>\n",
              "      <th>2</th>\n",
              "      <td>3</td>\n",
              "      <td>0</td>\n",
              "    </tr>\n",
              "    <tr>\n",
              "      <th>3</th>\n",
              "      <td>4</td>\n",
              "      <td>0</td>\n",
              "    </tr>\n",
              "    <tr>\n",
              "      <th>4</th>\n",
              "      <td>5</td>\n",
              "      <td>0</td>\n",
              "    </tr>\n",
              "  </tbody>\n",
              "</table>\n",
              "</div>\n",
              "      <button class=\"colab-df-convert\" onclick=\"convertToInteractive('df-708fa13b-b954-457a-8b74-2f80230cccd3')\"\n",
              "              title=\"Convert this dataframe to an interactive table.\"\n",
              "              style=\"display:none;\">\n",
              "        \n",
              "  <svg xmlns=\"http://www.w3.org/2000/svg\" height=\"24px\"viewBox=\"0 0 24 24\"\n",
              "       width=\"24px\">\n",
              "    <path d=\"M0 0h24v24H0V0z\" fill=\"none\"/>\n",
              "    <path d=\"M18.56 5.44l.94 2.06.94-2.06 2.06-.94-2.06-.94-.94-2.06-.94 2.06-2.06.94zm-11 1L8.5 8.5l.94-2.06 2.06-.94-2.06-.94L8.5 2.5l-.94 2.06-2.06.94zm10 10l.94 2.06.94-2.06 2.06-.94-2.06-.94-.94-2.06-.94 2.06-2.06.94z\"/><path d=\"M17.41 7.96l-1.37-1.37c-.4-.4-.92-.59-1.43-.59-.52 0-1.04.2-1.43.59L10.3 9.45l-7.72 7.72c-.78.78-.78 2.05 0 2.83L4 21.41c.39.39.9.59 1.41.59.51 0 1.02-.2 1.41-.59l7.78-7.78 2.81-2.81c.8-.78.8-2.07 0-2.86zM5.41 20L4 18.59l7.72-7.72 1.47 1.35L5.41 20z\"/>\n",
              "  </svg>\n",
              "      </button>\n",
              "      \n",
              "  <style>\n",
              "    .colab-df-container {\n",
              "      display:flex;\n",
              "      flex-wrap:wrap;\n",
              "      gap: 12px;\n",
              "    }\n",
              "\n",
              "    .colab-df-convert {\n",
              "      background-color: #E8F0FE;\n",
              "      border: none;\n",
              "      border-radius: 50%;\n",
              "      cursor: pointer;\n",
              "      display: none;\n",
              "      fill: #1967D2;\n",
              "      height: 32px;\n",
              "      padding: 0 0 0 0;\n",
              "      width: 32px;\n",
              "    }\n",
              "\n",
              "    .colab-df-convert:hover {\n",
              "      background-color: #E2EBFA;\n",
              "      box-shadow: 0px 1px 2px rgba(60, 64, 67, 0.3), 0px 1px 3px 1px rgba(60, 64, 67, 0.15);\n",
              "      fill: #174EA6;\n",
              "    }\n",
              "\n",
              "    [theme=dark] .colab-df-convert {\n",
              "      background-color: #3B4455;\n",
              "      fill: #D2E3FC;\n",
              "    }\n",
              "\n",
              "    [theme=dark] .colab-df-convert:hover {\n",
              "      background-color: #434B5C;\n",
              "      box-shadow: 0px 1px 3px 1px rgba(0, 0, 0, 0.15);\n",
              "      filter: drop-shadow(0px 1px 2px rgba(0, 0, 0, 0.3));\n",
              "      fill: #FFFFFF;\n",
              "    }\n",
              "  </style>\n",
              "\n",
              "      <script>\n",
              "        const buttonEl =\n",
              "          document.querySelector('#df-708fa13b-b954-457a-8b74-2f80230cccd3 button.colab-df-convert');\n",
              "        buttonEl.style.display =\n",
              "          google.colab.kernel.accessAllowed ? 'block' : 'none';\n",
              "\n",
              "        async function convertToInteractive(key) {\n",
              "          const element = document.querySelector('#df-708fa13b-b954-457a-8b74-2f80230cccd3');\n",
              "          const dataTable =\n",
              "            await google.colab.kernel.invokeFunction('convertToInteractive',\n",
              "                                                     [key], {});\n",
              "          if (!dataTable) return;\n",
              "\n",
              "          const docLinkHtml = 'Like what you see? Visit the ' +\n",
              "            '<a target=\"_blank\" href=https://colab.research.google.com/notebooks/data_table.ipynb>data table notebook</a>'\n",
              "            + ' to learn more about interactive tables.';\n",
              "          element.innerHTML = '';\n",
              "          dataTable['output_type'] = 'display_data';\n",
              "          await google.colab.output.renderOutput(dataTable, element);\n",
              "          const docLink = document.createElement('div');\n",
              "          docLink.innerHTML = docLinkHtml;\n",
              "          element.appendChild(docLink);\n",
              "        }\n",
              "      </script>\n",
              "    </div>\n",
              "  </div>\n",
              "  "
            ]
          },
          "metadata": {},
          "execution_count": 31
        }
      ]
    },
    {
      "cell_type": "code",
      "source": [
        "Train_df.describe()"
      ],
      "metadata": {
        "id": "y71Y3IqA1MnL",
        "colab": {
          "base_uri": "https://localhost:8080/",
          "height": 300
        },
        "outputId": "6209bfc2-b8e9-4ef7-c79c-f4c1ef91132f"
      },
      "execution_count": 32,
      "outputs": [
        {
          "output_type": "execute_result",
          "data": {
            "text/plain": [
              "                ID           DR\n",
              "count  1920.000000  1920.000000\n",
              "mean    960.500000     0.195833\n",
              "std     554.400577     0.396944\n",
              "min       1.000000     0.000000\n",
              "25%     480.750000     0.000000\n",
              "50%     960.500000     0.000000\n",
              "75%    1440.250000     0.000000\n",
              "max    1920.000000     1.000000"
            ],
            "text/html": [
              "\n",
              "  <div id=\"df-01d27f21-58c8-4b18-9a30-2092868dc999\">\n",
              "    <div class=\"colab-df-container\">\n",
              "      <div>\n",
              "<style scoped>\n",
              "    .dataframe tbody tr th:only-of-type {\n",
              "        vertical-align: middle;\n",
              "    }\n",
              "\n",
              "    .dataframe tbody tr th {\n",
              "        vertical-align: top;\n",
              "    }\n",
              "\n",
              "    .dataframe thead th {\n",
              "        text-align: right;\n",
              "    }\n",
              "</style>\n",
              "<table border=\"1\" class=\"dataframe\">\n",
              "  <thead>\n",
              "    <tr style=\"text-align: right;\">\n",
              "      <th></th>\n",
              "      <th>ID</th>\n",
              "      <th>DR</th>\n",
              "    </tr>\n",
              "  </thead>\n",
              "  <tbody>\n",
              "    <tr>\n",
              "      <th>count</th>\n",
              "      <td>1920.000000</td>\n",
              "      <td>1920.000000</td>\n",
              "    </tr>\n",
              "    <tr>\n",
              "      <th>mean</th>\n",
              "      <td>960.500000</td>\n",
              "      <td>0.195833</td>\n",
              "    </tr>\n",
              "    <tr>\n",
              "      <th>std</th>\n",
              "      <td>554.400577</td>\n",
              "      <td>0.396944</td>\n",
              "    </tr>\n",
              "    <tr>\n",
              "      <th>min</th>\n",
              "      <td>1.000000</td>\n",
              "      <td>0.000000</td>\n",
              "    </tr>\n",
              "    <tr>\n",
              "      <th>25%</th>\n",
              "      <td>480.750000</td>\n",
              "      <td>0.000000</td>\n",
              "    </tr>\n",
              "    <tr>\n",
              "      <th>50%</th>\n",
              "      <td>960.500000</td>\n",
              "      <td>0.000000</td>\n",
              "    </tr>\n",
              "    <tr>\n",
              "      <th>75%</th>\n",
              "      <td>1440.250000</td>\n",
              "      <td>0.000000</td>\n",
              "    </tr>\n",
              "    <tr>\n",
              "      <th>max</th>\n",
              "      <td>1920.000000</td>\n",
              "      <td>1.000000</td>\n",
              "    </tr>\n",
              "  </tbody>\n",
              "</table>\n",
              "</div>\n",
              "      <button class=\"colab-df-convert\" onclick=\"convertToInteractive('df-01d27f21-58c8-4b18-9a30-2092868dc999')\"\n",
              "              title=\"Convert this dataframe to an interactive table.\"\n",
              "              style=\"display:none;\">\n",
              "        \n",
              "  <svg xmlns=\"http://www.w3.org/2000/svg\" height=\"24px\"viewBox=\"0 0 24 24\"\n",
              "       width=\"24px\">\n",
              "    <path d=\"M0 0h24v24H0V0z\" fill=\"none\"/>\n",
              "    <path d=\"M18.56 5.44l.94 2.06.94-2.06 2.06-.94-2.06-.94-.94-2.06-.94 2.06-2.06.94zm-11 1L8.5 8.5l.94-2.06 2.06-.94-2.06-.94L8.5 2.5l-.94 2.06-2.06.94zm10 10l.94 2.06.94-2.06 2.06-.94-2.06-.94-.94-2.06-.94 2.06-2.06.94z\"/><path d=\"M17.41 7.96l-1.37-1.37c-.4-.4-.92-.59-1.43-.59-.52 0-1.04.2-1.43.59L10.3 9.45l-7.72 7.72c-.78.78-.78 2.05 0 2.83L4 21.41c.39.39.9.59 1.41.59.51 0 1.02-.2 1.41-.59l7.78-7.78 2.81-2.81c.8-.78.8-2.07 0-2.86zM5.41 20L4 18.59l7.72-7.72 1.47 1.35L5.41 20z\"/>\n",
              "  </svg>\n",
              "      </button>\n",
              "      \n",
              "  <style>\n",
              "    .colab-df-container {\n",
              "      display:flex;\n",
              "      flex-wrap:wrap;\n",
              "      gap: 12px;\n",
              "    }\n",
              "\n",
              "    .colab-df-convert {\n",
              "      background-color: #E8F0FE;\n",
              "      border: none;\n",
              "      border-radius: 50%;\n",
              "      cursor: pointer;\n",
              "      display: none;\n",
              "      fill: #1967D2;\n",
              "      height: 32px;\n",
              "      padding: 0 0 0 0;\n",
              "      width: 32px;\n",
              "    }\n",
              "\n",
              "    .colab-df-convert:hover {\n",
              "      background-color: #E2EBFA;\n",
              "      box-shadow: 0px 1px 2px rgba(60, 64, 67, 0.3), 0px 1px 3px 1px rgba(60, 64, 67, 0.15);\n",
              "      fill: #174EA6;\n",
              "    }\n",
              "\n",
              "    [theme=dark] .colab-df-convert {\n",
              "      background-color: #3B4455;\n",
              "      fill: #D2E3FC;\n",
              "    }\n",
              "\n",
              "    [theme=dark] .colab-df-convert:hover {\n",
              "      background-color: #434B5C;\n",
              "      box-shadow: 0px 1px 3px 1px rgba(0, 0, 0, 0.15);\n",
              "      filter: drop-shadow(0px 1px 2px rgba(0, 0, 0, 0.3));\n",
              "      fill: #FFFFFF;\n",
              "    }\n",
              "  </style>\n",
              "\n",
              "      <script>\n",
              "        const buttonEl =\n",
              "          document.querySelector('#df-01d27f21-58c8-4b18-9a30-2092868dc999 button.colab-df-convert');\n",
              "        buttonEl.style.display =\n",
              "          google.colab.kernel.accessAllowed ? 'block' : 'none';\n",
              "\n",
              "        async function convertToInteractive(key) {\n",
              "          const element = document.querySelector('#df-01d27f21-58c8-4b18-9a30-2092868dc999');\n",
              "          const dataTable =\n",
              "            await google.colab.kernel.invokeFunction('convertToInteractive',\n",
              "                                                     [key], {});\n",
              "          if (!dataTable) return;\n",
              "\n",
              "          const docLinkHtml = 'Like what you see? Visit the ' +\n",
              "            '<a target=\"_blank\" href=https://colab.research.google.com/notebooks/data_table.ipynb>data table notebook</a>'\n",
              "            + ' to learn more about interactive tables.';\n",
              "          element.innerHTML = '';\n",
              "          dataTable['output_type'] = 'display_data';\n",
              "          await google.colab.output.renderOutput(dataTable, element);\n",
              "          const docLink = document.createElement('div');\n",
              "          docLink.innerHTML = docLinkHtml;\n",
              "          element.appendChild(docLink);\n",
              "        }\n",
              "      </script>\n",
              "    </div>\n",
              "  </div>\n",
              "  "
            ]
          },
          "metadata": {},
          "execution_count": 32
        }
      ]
    },
    {
      "cell_type": "code",
      "source": [
        "Val_df.describe()"
      ],
      "metadata": {
        "colab": {
          "base_uri": "https://localhost:8080/",
          "height": 300
        },
        "id": "9Jl9W8LaMN3E",
        "outputId": "23543e18-fd99-4a91-d355-90bd88f562c2"
      },
      "execution_count": 33,
      "outputs": [
        {
          "output_type": "execute_result",
          "data": {
            "text/plain": [
              "               ID          DR\n",
              "count  640.000000  640.000000\n",
              "mean   320.500000    0.206250\n",
              "std    184.896367    0.404929\n",
              "min      1.000000    0.000000\n",
              "25%    160.750000    0.000000\n",
              "50%    320.500000    0.000000\n",
              "75%    480.250000    0.000000\n",
              "max    640.000000    1.000000"
            ],
            "text/html": [
              "\n",
              "  <div id=\"df-f78d3744-1091-4288-ac64-5831d4a8d1dd\">\n",
              "    <div class=\"colab-df-container\">\n",
              "      <div>\n",
              "<style scoped>\n",
              "    .dataframe tbody tr th:only-of-type {\n",
              "        vertical-align: middle;\n",
              "    }\n",
              "\n",
              "    .dataframe tbody tr th {\n",
              "        vertical-align: top;\n",
              "    }\n",
              "\n",
              "    .dataframe thead th {\n",
              "        text-align: right;\n",
              "    }\n",
              "</style>\n",
              "<table border=\"1\" class=\"dataframe\">\n",
              "  <thead>\n",
              "    <tr style=\"text-align: right;\">\n",
              "      <th></th>\n",
              "      <th>ID</th>\n",
              "      <th>DR</th>\n",
              "    </tr>\n",
              "  </thead>\n",
              "  <tbody>\n",
              "    <tr>\n",
              "      <th>count</th>\n",
              "      <td>640.000000</td>\n",
              "      <td>640.000000</td>\n",
              "    </tr>\n",
              "    <tr>\n",
              "      <th>mean</th>\n",
              "      <td>320.500000</td>\n",
              "      <td>0.206250</td>\n",
              "    </tr>\n",
              "    <tr>\n",
              "      <th>std</th>\n",
              "      <td>184.896367</td>\n",
              "      <td>0.404929</td>\n",
              "    </tr>\n",
              "    <tr>\n",
              "      <th>min</th>\n",
              "      <td>1.000000</td>\n",
              "      <td>0.000000</td>\n",
              "    </tr>\n",
              "    <tr>\n",
              "      <th>25%</th>\n",
              "      <td>160.750000</td>\n",
              "      <td>0.000000</td>\n",
              "    </tr>\n",
              "    <tr>\n",
              "      <th>50%</th>\n",
              "      <td>320.500000</td>\n",
              "      <td>0.000000</td>\n",
              "    </tr>\n",
              "    <tr>\n",
              "      <th>75%</th>\n",
              "      <td>480.250000</td>\n",
              "      <td>0.000000</td>\n",
              "    </tr>\n",
              "    <tr>\n",
              "      <th>max</th>\n",
              "      <td>640.000000</td>\n",
              "      <td>1.000000</td>\n",
              "    </tr>\n",
              "  </tbody>\n",
              "</table>\n",
              "</div>\n",
              "      <button class=\"colab-df-convert\" onclick=\"convertToInteractive('df-f78d3744-1091-4288-ac64-5831d4a8d1dd')\"\n",
              "              title=\"Convert this dataframe to an interactive table.\"\n",
              "              style=\"display:none;\">\n",
              "        \n",
              "  <svg xmlns=\"http://www.w3.org/2000/svg\" height=\"24px\"viewBox=\"0 0 24 24\"\n",
              "       width=\"24px\">\n",
              "    <path d=\"M0 0h24v24H0V0z\" fill=\"none\"/>\n",
              "    <path d=\"M18.56 5.44l.94 2.06.94-2.06 2.06-.94-2.06-.94-.94-2.06-.94 2.06-2.06.94zm-11 1L8.5 8.5l.94-2.06 2.06-.94-2.06-.94L8.5 2.5l-.94 2.06-2.06.94zm10 10l.94 2.06.94-2.06 2.06-.94-2.06-.94-.94-2.06-.94 2.06-2.06.94z\"/><path d=\"M17.41 7.96l-1.37-1.37c-.4-.4-.92-.59-1.43-.59-.52 0-1.04.2-1.43.59L10.3 9.45l-7.72 7.72c-.78.78-.78 2.05 0 2.83L4 21.41c.39.39.9.59 1.41.59.51 0 1.02-.2 1.41-.59l7.78-7.78 2.81-2.81c.8-.78.8-2.07 0-2.86zM5.41 20L4 18.59l7.72-7.72 1.47 1.35L5.41 20z\"/>\n",
              "  </svg>\n",
              "      </button>\n",
              "      \n",
              "  <style>\n",
              "    .colab-df-container {\n",
              "      display:flex;\n",
              "      flex-wrap:wrap;\n",
              "      gap: 12px;\n",
              "    }\n",
              "\n",
              "    .colab-df-convert {\n",
              "      background-color: #E8F0FE;\n",
              "      border: none;\n",
              "      border-radius: 50%;\n",
              "      cursor: pointer;\n",
              "      display: none;\n",
              "      fill: #1967D2;\n",
              "      height: 32px;\n",
              "      padding: 0 0 0 0;\n",
              "      width: 32px;\n",
              "    }\n",
              "\n",
              "    .colab-df-convert:hover {\n",
              "      background-color: #E2EBFA;\n",
              "      box-shadow: 0px 1px 2px rgba(60, 64, 67, 0.3), 0px 1px 3px 1px rgba(60, 64, 67, 0.15);\n",
              "      fill: #174EA6;\n",
              "    }\n",
              "\n",
              "    [theme=dark] .colab-df-convert {\n",
              "      background-color: #3B4455;\n",
              "      fill: #D2E3FC;\n",
              "    }\n",
              "\n",
              "    [theme=dark] .colab-df-convert:hover {\n",
              "      background-color: #434B5C;\n",
              "      box-shadow: 0px 1px 3px 1px rgba(0, 0, 0, 0.15);\n",
              "      filter: drop-shadow(0px 1px 2px rgba(0, 0, 0, 0.3));\n",
              "      fill: #FFFFFF;\n",
              "    }\n",
              "  </style>\n",
              "\n",
              "      <script>\n",
              "        const buttonEl =\n",
              "          document.querySelector('#df-f78d3744-1091-4288-ac64-5831d4a8d1dd button.colab-df-convert');\n",
              "        buttonEl.style.display =\n",
              "          google.colab.kernel.accessAllowed ? 'block' : 'none';\n",
              "\n",
              "        async function convertToInteractive(key) {\n",
              "          const element = document.querySelector('#df-f78d3744-1091-4288-ac64-5831d4a8d1dd');\n",
              "          const dataTable =\n",
              "            await google.colab.kernel.invokeFunction('convertToInteractive',\n",
              "                                                     [key], {});\n",
              "          if (!dataTable) return;\n",
              "\n",
              "          const docLinkHtml = 'Like what you see? Visit the ' +\n",
              "            '<a target=\"_blank\" href=https://colab.research.google.com/notebooks/data_table.ipynb>data table notebook</a>'\n",
              "            + ' to learn more about interactive tables.';\n",
              "          element.innerHTML = '';\n",
              "          dataTable['output_type'] = 'display_data';\n",
              "          await google.colab.output.renderOutput(dataTable, element);\n",
              "          const docLink = document.createElement('div');\n",
              "          docLink.innerHTML = docLinkHtml;\n",
              "          element.appendChild(docLink);\n",
              "        }\n",
              "      </script>\n",
              "    </div>\n",
              "  </div>\n",
              "  "
            ]
          },
          "metadata": {},
          "execution_count": 33
        }
      ]
    },
    {
      "cell_type": "code",
      "source": [
        "Train_df.info()"
      ],
      "metadata": {
        "colab": {
          "base_uri": "https://localhost:8080/"
        },
        "id": "aLia2k_qMQIm",
        "outputId": "2a2490ca-d3ee-4ffa-d62a-33c9f1406697"
      },
      "execution_count": 34,
      "outputs": [
        {
          "output_type": "stream",
          "name": "stdout",
          "text": [
            "<class 'pandas.core.frame.DataFrame'>\n",
            "RangeIndex: 1920 entries, 0 to 1919\n",
            "Data columns (total 2 columns):\n",
            " #   Column  Non-Null Count  Dtype\n",
            "---  ------  --------------  -----\n",
            " 0   ID      1920 non-null   int64\n",
            " 1   DR      1920 non-null   int64\n",
            "dtypes: int64(2)\n",
            "memory usage: 30.1 KB\n"
          ]
        }
      ]
    },
    {
      "cell_type": "code",
      "source": [
        "Val_df.info()"
      ],
      "metadata": {
        "colab": {
          "base_uri": "https://localhost:8080/"
        },
        "id": "kpg1jv6yMR5n",
        "outputId": "24b05508-b2e4-4b1c-e7a0-fb92c79b0137"
      },
      "execution_count": 35,
      "outputs": [
        {
          "output_type": "stream",
          "name": "stdout",
          "text": [
            "<class 'pandas.core.frame.DataFrame'>\n",
            "RangeIndex: 640 entries, 0 to 639\n",
            "Data columns (total 2 columns):\n",
            " #   Column  Non-Null Count  Dtype\n",
            "---  ------  --------------  -----\n",
            " 0   ID      640 non-null    int64\n",
            " 1   DR      640 non-null    int64\n",
            "dtypes: int64(2)\n",
            "memory usage: 10.1 KB\n"
          ]
        }
      ]
    },
    {
      "cell_type": "code",
      "source": [
        "Train_df.isna().sum()"
      ],
      "metadata": {
        "colab": {
          "base_uri": "https://localhost:8080/"
        },
        "id": "fUwkTaXCNLLA",
        "outputId": "bd8a8b31-5360-4397-a310-1aa1224cbf9d"
      },
      "execution_count": 36,
      "outputs": [
        {
          "output_type": "execute_result",
          "data": {
            "text/plain": [
              "ID    0\n",
              "DR    0\n",
              "dtype: int64"
            ]
          },
          "metadata": {},
          "execution_count": 36
        }
      ]
    },
    {
      "cell_type": "code",
      "source": [
        "Val_df.isna().sum()"
      ],
      "metadata": {
        "colab": {
          "base_uri": "https://localhost:8080/"
        },
        "id": "YBUr40kHNLIM",
        "outputId": "29c1e1d1-8893-42b3-c6d8-23a90f62e111"
      },
      "execution_count": 37,
      "outputs": [
        {
          "output_type": "execute_result",
          "data": {
            "text/plain": [
              "ID    0\n",
              "DR    0\n",
              "dtype: int64"
            ]
          },
          "metadata": {},
          "execution_count": 37
        }
      ]
    },
    {
      "cell_type": "markdown",
      "source": [
        "### 5. Getting the file paths for the images."
      ],
      "metadata": {
        "id": "2uC-JgwJRFio"
      }
    },
    {
      "cell_type": "code",
      "source": [
        "Train_df['filepath'] = Train_df['ID'].apply(lambda x: Training_images + str(x) + '.png')\n",
        "Val_df['filepath'] = Val_df['ID'].apply(lambda x: Validation_images + str(x) + '.png')\n",
        "Test_df['filepath'] = Test_df['ID'].apply(lambda x: Testing_images + str(x) + '.png')"
      ],
      "metadata": {
        "id": "OLIvD-xqOnYq"
      },
      "execution_count": 38,
      "outputs": []
    },
    {
      "cell_type": "code",
      "source": [
        "Train_df['filepath'][0]"
      ],
      "metadata": {
        "colab": {
          "base_uri": "https://localhost:8080/",
          "height": 35
        },
        "id": "uzBDfTGmPknT",
        "outputId": "c14b8dd4-f363-4dfb-a941-4548baae202a"
      },
      "execution_count": 39,
      "outputs": [
        {
          "output_type": "execute_result",
          "data": {
            "text/plain": [
              "'/content/Diabetic Retinopathy/Training_Set/Training_Set/Training/1.png'"
            ],
            "application/vnd.google.colaboratory.intrinsic+json": {
              "type": "string"
            }
          },
          "metadata": {},
          "execution_count": 39
        }
      ]
    },
    {
      "cell_type": "code",
      "source": [
        "Val_df['filepath'][0]"
      ],
      "metadata": {
        "colab": {
          "base_uri": "https://localhost:8080/",
          "height": 35
        },
        "id": "Q5Qq5bQvO5gt",
        "outputId": "a130bc5a-8af2-464a-eb6f-f107b163564f"
      },
      "execution_count": 40,
      "outputs": [
        {
          "output_type": "execute_result",
          "data": {
            "text/plain": [
              "'/content/Diabetic Retinopathy/Evaluation_Set/Evaluation_Set/Validation/1.png'"
            ],
            "application/vnd.google.colaboratory.intrinsic+json": {
              "type": "string"
            }
          },
          "metadata": {},
          "execution_count": 40
        }
      ]
    },
    {
      "cell_type": "code",
      "source": [
        "Test_df['filepath'][0]"
      ],
      "metadata": {
        "colab": {
          "base_uri": "https://localhost:8080/",
          "height": 35
        },
        "id": "i4iUrgkVQ6Uk",
        "outputId": "73be0a56-fc5d-4d11-eeba-32b1801cace2"
      },
      "execution_count": 41,
      "outputs": [
        {
          "output_type": "execute_result",
          "data": {
            "text/plain": [
              "'/content/Diabetic Retinopathy/Test_Set/Test_Set/Test/1.png'"
            ],
            "application/vnd.google.colaboratory.intrinsic+json": {
              "type": "string"
            }
          },
          "metadata": {},
          "execution_count": 41
        }
      ]
    },
    {
      "cell_type": "markdown",
      "source": [
        "### 6. Sample Images"
      ],
      "metadata": {
        "id": "mr4LHp_7MT94"
      }
    },
    {
      "cell_type": "code",
      "source": [
        "Train_df['DR'].value_counts()"
      ],
      "metadata": {
        "colab": {
          "base_uri": "https://localhost:8080/"
        },
        "id": "kg9sS60yMSsX",
        "outputId": "0f1ecd33-4735-4b79-f00a-1b27e2950a20"
      },
      "execution_count": 42,
      "outputs": [
        {
          "output_type": "execute_result",
          "data": {
            "text/plain": [
              "0    1544\n",
              "1     376\n",
              "Name: DR, dtype: int64"
            ]
          },
          "metadata": {},
          "execution_count": 42
        }
      ]
    },
    {
      "cell_type": "code",
      "source": [
        "Val_df['DR'].value_counts()"
      ],
      "metadata": {
        "colab": {
          "base_uri": "https://localhost:8080/"
        },
        "id": "EvSOSoXDNUaG",
        "outputId": "2ef3f3e5-e0fa-4eab-8760-78c4812ef9af"
      },
      "execution_count": 43,
      "outputs": [
        {
          "output_type": "execute_result",
          "data": {
            "text/plain": [
              "0    508\n",
              "1    132\n",
              "Name: DR, dtype: int64"
            ]
          },
          "metadata": {},
          "execution_count": 43
        }
      ]
    },
    {
      "cell_type": "code",
      "source": [
        "ax = sns.countplot(x='DR',data=Train_df)\n",
        "for p in ax.patches:\n",
        "  ax.annotate(f'{p.get_height()}',(p.get_x()+p.get_width()/2.,p.get_height()),ha='center',va='bottom')\n",
        "\n",
        "plt.show()"
      ],
      "metadata": {
        "id": "QwAeU8RINXc8",
        "colab": {
          "base_uri": "https://localhost:8080/",
          "height": 450
        },
        "outputId": "6c00c41d-9be1-4b45-c321-9bfce76b5987"
      },
      "execution_count": 44,
      "outputs": [
        {
          "output_type": "display_data",
          "data": {
            "text/plain": [
              "<Figure size 640x480 with 1 Axes>"
            ],
            "image/png": "[encoded data removed]"
          },
          "metadata": {}
        }
      ]
    },
    {
      "cell_type": "code",
      "source": [
        "# Getting random eye images from the Train Image paths\n",
        "random_eye_images = [np.random.choice(Train_df['filepath']) for i in range(8)]\n",
        "\n",
        "print(\"Display Random Images\")\n",
        "\n",
        "# Setting the figure size to 20px horizontally and 10px vertically.\n",
        "plt.figure(figsize=(10, 3))\n",
        "\n",
        "# Plotting 9 random images of the eyes.\n",
        "for i in range(8):\n",
        "  plt.subplot(2, 4, i+1)                # plt.subplot(nrows, ncols, index) nrows: no.of rows, ncols: no.of cols, index: selecting the subplot.\n",
        "  img = plt.imread(random_eye_images[i])  # Reading the image using plt.imread function.\n",
        "  plt.imshow(img)                         # Showing the images by plotting them.\n",
        "  plt.axis('off')                         # Not taking the axis.\n",
        "  \n",
        "plt.tight_layout()                        # Used to adjust padding between the subplots."
      ],
      "metadata": {
        "id": "20i6Uh31NniF",
        "colab": {
          "base_uri": "https://localhost:8080/",
          "height": 324
        },
        "outputId": "2d363786-5bb7-40fd-8937-cd88b24c7efa"
      },
      "execution_count": 45,
      "outputs": [
        {
          "output_type": "stream",
          "name": "stdout",
          "text": [
            "Display Random Images\n"
          ]
        },
        {
          "output_type": "display_data",
          "data": {
            "text/plain": [
              "<Figure size 1000x300 with 8 Axes>"
            ],
            "image/png": "[encoded data removed]"
          },
          "metadata": {}
        }
      ]
    },
    {
      "cell_type": "markdown",
      "source": [
        "### 7. ImageDataGenerator"
      ],
      "metadata": {
        "id": "hXITccYTS2TD"
      }
    },
    {
      "cell_type": "code",
      "source": [
        "\"\"\"datagen = ImageDataGenerator(\n",
        "    rescale = 1.0/255.0,\n",
        "    rotation_range = 10,\n",
        "    width_shift_range = 0.1,\n",
        "    height_shift_range = 0.1,\n",
        "    shear_range = 0.2,\n",
        "    zoom_range = 0.2,\n",
        "    horizontal_flip = True,\n",
        "    validation_split = 0.2\n",
        ")\"\"\""
      ],
      "metadata": {
        "id": "RfnYYEFgRlZS"
      },
      "execution_count": null,
      "outputs": []
    },
    {
      "cell_type": "code",
      "source": [
        "Train_df.info()"
      ],
      "metadata": {
        "id": "_Jrfit3upXNN",
        "colab": {
          "base_uri": "https://localhost:8080/"
        },
        "outputId": "bb61ff6a-45ed-4fd3-ab40-4c2fae447f3d"
      },
      "execution_count": 46,
      "outputs": [
        {
          "output_type": "stream",
          "name": "stdout",
          "text": [
            "<class 'pandas.core.frame.DataFrame'>\n",
            "RangeIndex: 1920 entries, 0 to 1919\n",
            "Data columns (total 3 columns):\n",
            " #   Column    Non-Null Count  Dtype \n",
            "---  ------    --------------  ----- \n",
            " 0   ID        1920 non-null   int64 \n",
            " 1   DR        1920 non-null   int64 \n",
            " 2   filepath  1920 non-null   object\n",
            "dtypes: int64(2), object(1)\n",
            "memory usage: 45.1+ KB\n"
          ]
        }
      ]
    },
    {
      "cell_type": "code",
      "source": [
        "# import random\n",
        "# temp =[]\n",
        "# for i in range(len(diseased_Eyes)):\n",
        "#   temp.append(healthy_Eyes.iloc[random.choice(range(len(diseased_Eyes))), :])\n",
        "# demo = pd.DataFrame(temp, columns = healthy_Eyes.columns)"
      ],
      "metadata": {
        "id": "vHxNgS8Lme6w"
      },
      "execution_count": null,
      "outputs": []
    },
    {
      "cell_type": "code",
      "source": [
        "train_Data = pd.concat([Train_df, Val_df])"
      ],
      "metadata": {
        "id": "fjvUSxwDZaK9"
      },
      "execution_count": 50,
      "outputs": []
    },
    {
      "cell_type": "code",
      "source": [
        "train_Data['DR'].value_counts()"
      ],
      "metadata": {
        "id": "Nl7CCt9vZ23N",
        "outputId": "116af10b-47a4-4271-b5d3-b0643ef3822c",
        "colab": {
          "base_uri": "https://localhost:8080/"
        }
      },
      "execution_count": 52,
      "outputs": [
        {
          "output_type": "execute_result",
          "data": {
            "text/plain": [
              "0    2052\n",
              "1     508\n",
              "Name: DR, dtype: int64"
            ]
          },
          "metadata": {},
          "execution_count": 52
        }
      ]
    },
    {
      "cell_type": "code",
      "source": [
        "from sklearn.utils import shuffle\n",
        "def balance_Data(data, feature):\n",
        "  class_01 = data[data[feature] == 1]\n",
        "  class_00 = data[data[feature] == 0]\n",
        "  return shuffle(pd.concat([class_01, class_00.sample(n = round(1.5 * len(class_01)))]))"
      ],
      "metadata": {
        "id": "7sdxrXI_uqLb"
      },
      "execution_count": 53,
      "outputs": []
    },
    {
      "cell_type": "code",
      "source": [
        "bal_Train_Data = balance_Data(train_Data, 'DR')"
      ],
      "metadata": {
        "id": "7ETW5L5tuFNt"
      },
      "execution_count": 54,
      "outputs": []
    },
    {
      "cell_type": "code",
      "source": [
        "bal_Train_Data['DR'].value_counts()"
      ],
      "metadata": {
        "id": "jHdWp6Ilvqzf",
        "colab": {
          "base_uri": "https://localhost:8080/"
        },
        "outputId": "23cfca59-05b6-43cb-f588-e886d108487c"
      },
      "execution_count": 55,
      "outputs": [
        {
          "output_type": "execute_result",
          "data": {
            "text/plain": [
              "0    762\n",
              "1    508\n",
              "Name: DR, dtype: int64"
            ]
          },
          "metadata": {},
          "execution_count": 55
        }
      ]
    },
    {
      "cell_type": "code",
      "source": [
        "# Load and preprocess the grayscale images\n",
        "from PIL import Image\n",
        "\n",
        "def img2Gray(image_Paths):\n",
        "  gray_Images = []\n",
        "\n",
        "  for image_Path in image_Paths:\n",
        "      gray_Image = Image.open(image_Path).convert('L').resize((224, 224))\n",
        "      gray_Array = np.array(gray_Image)\n",
        "      norm_Array = gray_Array / 255.0\n",
        "      reshaped_Array = norm_Array.reshape(224, 224, 1)\n",
        "      gray_Images.append(reshaped_Array)\n",
        "      \n",
        "  gray_Images = np.array(gray_Images)\n",
        "  return gray_Images"
      ],
      "metadata": {
        "id": "sKNUVnxtoDgm"
      },
      "execution_count": 56,
      "outputs": []
    },
    {
      "cell_type": "code",
      "source": [
        "train_Features = img2Gray(bal_Train_Data['filepath'])"
      ],
      "metadata": {
        "id": "exvoBfqZdpcV"
      },
      "execution_count": 57,
      "outputs": []
    },
    {
      "cell_type": "code",
      "source": [
        "train_Targets = bal_Train_Data['DR']"
      ],
      "metadata": {
        "id": "Y2VV64lhDoRJ"
      },
      "execution_count": 58,
      "outputs": []
    },
    {
      "cell_type": "code",
      "source": [
        "from keras.callbacks import ModelCheckpoint\n",
        "filepath = \"-{epoch:02d}-{recall:.02f}.h5\""
      ],
      "metadata": {
        "id": "X8BmSGa_U0Rx"
      },
      "execution_count": 59,
      "outputs": []
    },
    {
      "cell_type": "code",
      "source": [
        "checkpoints = ModelCheckpoint(\n",
        "    filepath,\n",
        "    monitor = 'recall',\n",
        "    verbose = 1,\n",
        "    save_best_only = True,\n",
        "    save_feq = 10,\n",
        "    mode = 'max')"
      ],
      "metadata": {
        "id": "1XXeVfUPV7WD"
      },
      "execution_count": 70,
      "outputs": []
    },
    {
      "cell_type": "code",
      "source": [
        "# Create the CNN model\n",
        "import tensorflow as tf\n",
        "from tensorflow import keras\n",
        "from keras.models import Sequential\n",
        "from keras.layers.convolutional import Conv2D\n",
        "from keras.layers import Conv2D, MaxPooling2D\n",
        "from keras.layers import Dense, Activation, Flatten\n",
        "\n",
        "model = Sequential([\n",
        "    Conv2D(32, (3, 3), activation = 'relu', input_shape = (224, 224, 1)),\n",
        "    MaxPooling2D((2, 2)),\n",
        "    Conv2D(64, (3, 3), activation = 'relu'),\n",
        "    MaxPooling2D((2, 2)),\n",
        "    Conv2D(128, (3, 3), activation = 'relu'),\n",
        "    MaxPooling2D((2, 2)),\n",
        "    Conv2D(64, (3, 3), activation = 'relu'),\n",
        "    Flatten(),\n",
        "    Dense(64, activation = 'relu'),\n",
        "    Dense(1, activation = 'sigmoid')\n",
        "])\n",
        "\n",
        "# Compile the model\n",
        "model.compile(optimizer='adam', loss='binary_crossentropy', metrics=['Recall'])\n",
        "\n",
        "# Train the model\n",
        "history = model.fit(train_Features, train_Targets, epochs = 44, batch_size = 32, callbacks = [checkpoints])"
      ],
      "metadata": {
        "colab": {
          "base_uri": "https://localhost:8080/"
        },
        "id": "lPRkoeLdDfvo",
        "outputId": "36821b5f-f625-45c5-aaef-6ca73cd873dd"
      },
      "execution_count": 73,
      "outputs": [
        {
          "output_type": "stream",
          "name": "stdout",
          "text": [
            "Epoch 1/44\n",
            "39/40 [============================>.] - ETA: 0s - loss: 0.6964 - recall: 0.0298\n",
            "Epoch 1: recall did not improve from 1.00000\n",
            "40/40 [==============================] - 4s 45ms/step - loss: 0.6957 - recall: 0.0295\n",
            "Epoch 2/44\n",
            "39/40 [============================>.] - ETA: 0s - loss: 0.6747 - recall: 0.0000e+00\n",
            "Epoch 2: recall did not improve from 1.00000\n",
            "40/40 [==============================] - 2s 44ms/step - loss: 0.6745 - recall: 0.0000e+00\n",
            "Epoch 3/44\n",
            "39/40 [============================>.] - ETA: 0s - loss: 0.6747 - recall: 0.0000e+00\n",
            "Epoch 3: recall did not improve from 1.00000\n",
            "40/40 [==============================] - 2s 41ms/step - loss: 0.6747 - recall: 0.0000e+00\n",
            "Epoch 4/44\n",
            "39/40 [============================>.] - ETA: 0s - loss: 0.6525 - recall: 0.0000e+00\n",
            "Epoch 4: recall did not improve from 1.00000\n",
            "40/40 [==============================] - 2s 42ms/step - loss: 0.6517 - recall: 0.0000e+00\n",
            "Epoch 5/44\n",
            "39/40 [============================>.] - ETA: 0s - loss: 0.6368 - recall: 0.0020\n",
            "Epoch 5: recall did not improve from 1.00000\n",
            "40/40 [==============================] - 2s 42ms/step - loss: 0.6365 - recall: 0.0020\n",
            "Epoch 6/44\n",
            "39/40 [============================>.] - ETA: 0s - loss: 0.6354 - recall: 0.0000e+00\n",
            "Epoch 6: recall did not improve from 1.00000\n",
            "40/40 [==============================] - 2s 42ms/step - loss: 0.6352 - recall: 0.0000e+00\n",
            "Epoch 7/44\n",
            "39/40 [============================>.] - ETA: 0s - loss: 0.6285 - recall: 0.0000e+00\n",
            "Epoch 7: recall did not improve from 1.00000\n",
            "40/40 [==============================] - 2s 42ms/step - loss: 0.6308 - recall: 0.0000e+00\n",
            "Epoch 8/44\n",
            "39/40 [============================>.] - ETA: 0s - loss: 0.6271 - recall: 0.0000e+00\n",
            "Epoch 8: recall did not improve from 1.00000\n",
            "40/40 [==============================] - 2s 42ms/step - loss: 0.6289 - recall: 0.0000e+00\n",
            "Epoch 9/44\n",
            "40/40 [==============================] - ETA: 0s - loss: 0.6138 - recall: 0.0000e+00\n",
            "Epoch 9: recall did not improve from 1.00000\n",
            "40/40 [==============================] - 2s 44ms/step - loss: 0.6138 - recall: 0.0000e+00\n",
            "Epoch 10/44\n",
            "39/40 [============================>.] - ETA: 0s - loss: 0.6162 - recall: 0.0000e+00\n",
            "Epoch 10: recall did not improve from 1.00000\n",
            "40/40 [==============================] - 2s 43ms/step - loss: 0.6155 - recall: 0.0000e+00\n",
            "Epoch 11/44\n",
            "39/40 [============================>.] - ETA: 0s - loss: 0.5974 - recall: 0.0000e+00\n",
            "Epoch 11: recall did not improve from 1.00000\n",
            "40/40 [==============================] - 2s 42ms/step - loss: 0.5981 - recall: 0.0000e+00\n",
            "Epoch 12/44\n",
            "39/40 [============================>.] - ETA: 0s - loss: 0.5916 - recall: 0.4930\n",
            "Epoch 12: recall did not improve from 1.00000\n",
            "40/40 [==============================] - 2s 42ms/step - loss: 0.5903 - recall: 0.4921\n",
            "Epoch 13/44\n",
            "39/40 [============================>.] - ETA: 0s - loss: 0.5776 - recall: 0.5815\n",
            "Epoch 13: recall did not improve from 1.00000\n",
            "40/40 [==============================] - 2s 42ms/step - loss: 0.5802 - recall: 0.5807\n",
            "Epoch 14/44\n",
            "39/40 [============================>.] - ETA: 0s - loss: 0.5676 - recall: 0.6197\n",
            "Epoch 14: recall did not improve from 1.00000\n",
            "40/40 [==============================] - 2s 41ms/step - loss: 0.5688 - recall: 0.6260\n",
            "Epoch 15/44\n",
            "39/40 [============================>.] - ETA: 0s - loss: 0.5989 - recall: 0.7709\n",
            "Epoch 15: recall did not improve from 1.00000\n",
            "40/40 [==============================] - 2s 41ms/step - loss: 0.5982 - recall: 0.7736\n",
            "Epoch 16/44\n",
            "39/40 [============================>.] - ETA: 0s - loss: 0.5663 - recall: 0.6539\n",
            "Epoch 16: recall did not improve from 1.00000\n",
            "40/40 [==============================] - 2s 42ms/step - loss: 0.5683 - recall: 0.6575\n",
            "Epoch 17/44\n",
            "40/40 [==============================] - ETA: 0s - loss: 0.5554 - recall: 0.6772\n",
            "Epoch 17: recall did not improve from 1.00000\n",
            "40/40 [==============================] - 2s 44ms/step - loss: 0.5554 - recall: 0.6772\n",
            "Epoch 18/44\n",
            "39/40 [============================>.] - ETA: 0s - loss: 0.5542 - recall: 0.6940\n",
            "Epoch 18: recall did not improve from 1.00000\n",
            "40/40 [==============================] - 2s 43ms/step - loss: 0.5525 - recall: 0.6949\n",
            "Epoch 19/44\n",
            "39/40 [============================>.] - ETA: 0s - loss: 0.5246 - recall: 0.7530\n",
            "Epoch 19: recall did not improve from 1.00000\n",
            "40/40 [==============================] - 2s 42ms/step - loss: 0.5245 - recall: 0.7480\n",
            "Epoch 20/44\n",
            "39/40 [============================>.] - ETA: 0s - loss: 0.5360 - recall: 0.7425\n",
            "Epoch 20: recall did not improve from 1.00000\n",
            "40/40 [==============================] - 2s 42ms/step - loss: 0.5346 - recall: 0.7421\n",
            "Epoch 21/44\n",
            "39/40 [============================>.] - ETA: 0s - loss: 0.5180 - recall: 0.8024\n",
            "Epoch 21: recall did not improve from 1.00000\n",
            "40/40 [==============================] - 2s 42ms/step - loss: 0.5189 - recall: 0.8031\n",
            "Epoch 22/44\n",
            "39/40 [============================>.] - ETA: 0s - loss: 0.5110 - recall: 0.7605\n",
            "Epoch 22: recall did not improve from 1.00000\n",
            "40/40 [==============================] - 2s 42ms/step - loss: 0.5094 - recall: 0.7638\n",
            "Epoch 23/44\n",
            "39/40 [============================>.] - ETA: 0s - loss: 0.5177 - recall: 0.7751\n",
            "Epoch 23: recall did not improve from 1.00000\n",
            "40/40 [==============================] - 2s 41ms/step - loss: 0.5195 - recall: 0.7717\n",
            "Epoch 24/44\n",
            "39/40 [============================>.] - ETA: 0s - loss: 0.4926 - recall: 0.7745\n",
            "Epoch 24: recall did not improve from 1.00000\n",
            "40/40 [==============================] - 2s 41ms/step - loss: 0.4930 - recall: 0.7736\n",
            "Epoch 25/44\n",
            "39/40 [============================>.] - ETA: 0s - loss: 0.4776 - recall: 0.8040\n",
            "Epoch 25: recall did not improve from 1.00000\n",
            "40/40 [==============================] - 2s 44ms/step - loss: 0.4783 - recall: 0.8031\n",
            "Epoch 26/44\n",
            "39/40 [============================>.] - ETA: 0s - loss: 0.4721 - recall: 0.8120\n",
            "Epoch 26: recall did not improve from 1.00000\n",
            "40/40 [==============================] - 2s 44ms/step - loss: 0.4742 - recall: 0.8130\n",
            "Epoch 27/44\n",
            "39/40 [============================>.] - ETA: 0s - loss: 0.4785 - recall: 0.7964\n",
            "Epoch 27: recall did not improve from 1.00000\n",
            "40/40 [==============================] - 2s 42ms/step - loss: 0.4761 - recall: 0.7992\n",
            "Epoch 28/44\n",
            "39/40 [============================>.] - ETA: 0s - loss: 0.4438 - recall: 0.8133\n",
            "Epoch 28: recall did not improve from 1.00000\n",
            "40/40 [==============================] - 2s 42ms/step - loss: 0.4439 - recall: 0.8110\n",
            "Epoch 29/44\n",
            "39/40 [============================>.] - ETA: 0s - loss: 0.4452 - recall: 0.8134\n",
            "Epoch 29: recall did not improve from 1.00000\n",
            "40/40 [==============================] - 2s 42ms/step - loss: 0.4480 - recall: 0.8130\n",
            "Epoch 30/44\n",
            "39/40 [============================>.] - ETA: 0s - loss: 0.4318 - recall: 0.8306\n",
            "Epoch 30: recall did not improve from 1.00000\n",
            "40/40 [==============================] - 2s 42ms/step - loss: 0.4311 - recall: 0.8327\n",
            "Epoch 31/44\n",
            "39/40 [============================>.] - ETA: 0s - loss: 0.4147 - recall: 0.8457\n",
            "Epoch 31: recall did not improve from 1.00000\n",
            "40/40 [==============================] - 2s 42ms/step - loss: 0.4128 - recall: 0.8465\n",
            "Epoch 32/44\n",
            "39/40 [============================>.] - ETA: 0s - loss: 0.4275 - recall: 0.8347\n",
            "Epoch 32: recall did not improve from 1.00000\n",
            "40/40 [==============================] - 2s 41ms/step - loss: 0.4271 - recall: 0.8327\n",
            "Epoch 33/44\n",
            "39/40 [============================>.] - ETA: 0s - loss: 0.4190 - recall: 0.8180\n",
            "Epoch 33: recall did not improve from 1.00000\n",
            "40/40 [==============================] - 2s 43ms/step - loss: 0.4179 - recall: 0.8169\n",
            "Epoch 34/44\n",
            "39/40 [============================>.] - ETA: 0s - loss: 0.3878 - recall: 0.8831\n",
            "Epoch 34: recall did not improve from 1.00000\n",
            "40/40 [==============================] - 2s 43ms/step - loss: 0.3874 - recall: 0.8858\n",
            "Epoch 35/44\n",
            "39/40 [============================>.] - ETA: 0s - loss: 0.3944 - recall: 0.8434\n",
            "Epoch 35: recall did not improve from 1.00000\n",
            "40/40 [==============================] - 2s 42ms/step - loss: 0.3932 - recall: 0.8465\n",
            "Epoch 36/44\n",
            "39/40 [============================>.] - ETA: 0s - loss: 0.3540 - recall: 0.8717\n",
            "Epoch 36: recall did not improve from 1.00000\n",
            "40/40 [==============================] - 2s 41ms/step - loss: 0.3549 - recall: 0.8701\n",
            "Epoch 37/44\n",
            "39/40 [============================>.] - ETA: 0s - loss: 0.3565 - recall: 0.8818\n",
            "Epoch 37: recall did not improve from 1.00000\n",
            "40/40 [==============================] - 2s 42ms/step - loss: 0.3575 - recall: 0.8780\n",
            "Epoch 38/44\n",
            "39/40 [============================>.] - ETA: 0s - loss: 0.3476 - recall: 0.8795\n",
            "Epoch 38: recall did not improve from 1.00000\n",
            "40/40 [==============================] - 2s 42ms/step - loss: 0.3469 - recall: 0.8819\n",
            "Epoch 39/44\n",
            "39/40 [============================>.] - ETA: 0s - loss: 0.3317 - recall: 0.9082\n",
            "Epoch 39: recall did not improve from 1.00000\n",
            "40/40 [==============================] - 2s 42ms/step - loss: 0.3291 - recall: 0.9075\n",
            "Epoch 40/44\n",
            "39/40 [============================>.] - ETA: 0s - loss: 0.3481 - recall: 0.9238\n",
            "Epoch 40: recall did not improve from 1.00000\n",
            "40/40 [==============================] - 2s 41ms/step - loss: 0.3496 - recall: 0.9193\n",
            "Epoch 41/44\n",
            "39/40 [============================>.] - ETA: 0s - loss: 0.3315 - recall: 0.8996\n",
            "Epoch 41: recall did not improve from 1.00000\n",
            "40/40 [==============================] - 2s 43ms/step - loss: 0.3303 - recall: 0.9016\n",
            "Epoch 42/44\n",
            "40/40 [==============================] - ETA: 0s - loss: 0.3050 - recall: 0.9173\n",
            "Epoch 42: recall did not improve from 1.00000\n",
            "40/40 [==============================] - 2s 44ms/step - loss: 0.3050 - recall: 0.9173\n",
            "Epoch 43/44\n",
            "39/40 [============================>.] - ETA: 0s - loss: 0.2949 - recall: 0.9481\n",
            "Epoch 43: recall did not improve from 1.00000\n",
            "40/40 [==============================] - 2s 42ms/step - loss: 0.2976 - recall: 0.9469\n",
            "Epoch 44/44\n",
            "39/40 [============================>.] - ETA: 0s - loss: 0.2943 - recall: 0.9202\n",
            "Epoch 44: recall did not improve from 1.00000\n",
            "40/40 [==============================] - 2s 43ms/step - loss: 0.2935 - recall: 0.9213\n"
          ]
        }
      ]
    },
    {
      "cell_type": "code",
      "source": [
        "# val_Array = img2Gray(Val_df['filepath'])"
      ],
      "metadata": {
        "id": "-M0mNmmVYOdb"
      },
      "execution_count": null,
      "outputs": []
    },
    {
      "cell_type": "code",
      "source": [
        "# # Evaluate the model on the test set\n",
        "# val_loss, val_acc = model.evaluate(val_Array, Val_df['DR'])\n",
        "# print('Validation accuracy:', val_acc)"
      ],
      "metadata": {
        "id": "7rQB3H-XbG7W",
        "colab": {
          "base_uri": "https://localhost:8080/"
        },
        "outputId": "5c0e46a8-e5fd-4390-9162-562a21563037"
      },
      "execution_count": null,
      "outputs": [
        {
          "output_type": "stream",
          "name": "stdout",
          "text": [
            "20/20 [==============================] - 1s 17ms/step - loss: 0.5496 - recall: 0.0833\n",
            "Validation accuracy: 0.0833333358168602\n"
          ]
        }
      ]
    },
    {
      "cell_type": "code",
      "source": [
        "test_Array = img2Gray(Test_df['filepath'])"
      ],
      "metadata": {
        "id": "5aj6J22IhXtO"
      },
      "execution_count": 62,
      "outputs": []
    },
    {
      "cell_type": "code",
      "source": [
        "# Evaluate the model on the test set\n",
        "test_loss, test_acc = model.evaluate(test_Array, Test_df['DR'])\n",
        "print('Test Recall:', test_acc)"
      ],
      "metadata": {
        "colab": {
          "base_uri": "https://localhost:8080/"
        },
        "id": "xrnG0jOuNzR1",
        "outputId": "90202d87-ffa6-4706-f154-2ec5e409aeb5"
      },
      "execution_count": 74,
      "outputs": [
        {
          "output_type": "stream",
          "name": "stdout",
          "text": [
            "20/20 [==============================] - 0s 16ms/step - loss: 0.7818 - recall: 0.4758\n",
            "Test Recall: 0.47580644488334656\n"
          ]
        }
      ]
    },
    {
      "cell_type": "code",
      "source": [
        "test_Predictions = model.predict(test_Array)"
      ],
      "metadata": {
        "colab": {
          "base_uri": "https://localhost:8080/"
        },
        "id": "kWKrxBtHZS6q",
        "outputId": "f5b3dcbb-3017-40af-ec34-0491c6355588"
      },
      "execution_count": 75,
      "outputs": [
        {
          "output_type": "stream",
          "name": "stdout",
          "text": [
            "20/20 [==============================] - 0s 17ms/step\n"
          ]
        }
      ]
    },
    {
      "cell_type": "code",
      "source": [
        "np.mean(test_Predictions)"
      ],
      "metadata": {
        "colab": {
          "base_uri": "https://localhost:8080/"
        },
        "id": "M1UcLqR11fwu",
        "outputId": "6af745ed-5574-4571-eddc-a7b0319becc4"
      },
      "execution_count": 76,
      "outputs": [
        {
          "output_type": "execute_result",
          "data": {
            "text/plain": [
              "0.22728217"
            ]
          },
          "metadata": {},
          "execution_count": 76
        }
      ]
    },
    {
      "cell_type": "code",
      "source": [
        "test_Predictions_Bin = []\n",
        "for prediction in test_Predictions:\n",
        "  test_Predictions_Bin.append(0) if prediction <= np.mean(test_Predictions) else test_Predictions_Bin.append(1)"
      ],
      "metadata": {
        "id": "olFLmiTlZ0-c"
      },
      "execution_count": 93,
      "outputs": []
    },
    {
      "cell_type": "code",
      "source": [
        "# val_Predictions_Bin = pd.DataFrame(np.argmax(val_Predictions, axis = 1))"
      ],
      "metadata": {
        "id": "zNzlY7sOA7Ap"
      },
      "execution_count": null,
      "outputs": []
    },
    {
      "cell_type": "code",
      "source": [
        "pd.DataFrame(test_Predictions_Bin).value_counts()"
      ],
      "metadata": {
        "colab": {
          "base_uri": "https://localhost:8080/"
        },
        "id": "F7CwWUrU5A_3",
        "outputId": "cb7b18d9-da21-402e-ca42-5c281a79d2a5"
      },
      "execution_count": 94,
      "outputs": [
        {
          "output_type": "execute_result",
          "data": {
            "text/plain": [
              "0    406\n",
              "1    234\n",
              "dtype: int64"
            ]
          },
          "metadata": {},
          "execution_count": 94
        }
      ]
    },
    {
      "cell_type": "code",
      "source": [
        "Test_df['DR'].value_counts()"
      ],
      "metadata": {
        "colab": {
          "base_uri": "https://localhost:8080/"
        },
        "id": "rvRJBeXpin5i",
        "outputId": "21e0d3d9-c7da-4452-f6b3-dfa68c707386"
      },
      "execution_count": 95,
      "outputs": [
        {
          "output_type": "execute_result",
          "data": {
            "text/plain": [
              "0    516\n",
              "1    124\n",
              "Name: DR, dtype: int64"
            ]
          },
          "metadata": {},
          "execution_count": 95
        }
      ]
    },
    {
      "cell_type": "code",
      "source": [
        "from sklearn.metrics import confusion_matrix, accuracy_score, f1_score, recall_score, classification_report\n",
        "sns.heatmap(confusion_matrix(test_Predictions_Bin, Test_df['DR']), annot = True, fmt = 'd')\n",
        "plt.ylabel('Predicted')\n",
        "plt.xlabel('True')\n",
        "plt.show()"
      ],
      "metadata": {
        "colab": {
          "base_uri": "https://localhost:8080/",
          "height": 449
        },
        "id": "dREgUfMLXuN3",
        "outputId": "69ec4c68-eef4-4911-df75-78f3e1de0213"
      },
      "execution_count": 101,
      "outputs": [
        {
          "output_type": "display_data",
          "data": {
            "text/plain": [
              "<Figure size 640x480 with 2 Axes>"
            ],
            "image/png": "[encoded data removed]"
          },
          "metadata": {}
        }
      ]
    },
    {
      "cell_type": "code",
      "source": [
        "from google.colab import files\n",
        "uploaded = files.upload()"
      ],
      "metadata": {
        "colab": {
          "base_uri": "https://localhost:8080/",
          "height": 73
        },
        "id": "_1A5ivlILO1d",
        "outputId": "89eb5709-9188-4b9b-dd8f-d161cbb93108"
      },
      "execution_count": null,
      "outputs": [
        {
          "output_type": "display_data",
          "data": {
            "text/plain": [
              "<IPython.core.display.HTML object>"
            ],
            "text/html": [
              "\n",
              "     <input type=\"file\" id=\"files-95376936-04fb-4e79-8da8-f3b944255290\" name=\"files[]\" multiple disabled\n",
              "        style=\"border:none\" />\n",
              "     <output id=\"result-95376936-04fb-4e79-8da8-f3b944255290\">\n",
              "      Upload widget is only available when the cell has been executed in the\n",
              "      current browser session. Please rerun this cell to enable.\n",
              "      </output>\n",
              "      <script>// Copyright 2017 Google LLC\n",
              "//\n",
              "// Licensed under the Apache License, Version 2.0 (the \"License\");\n",
              "// you may not use this file except in compliance with the License.\n",
              "// You may obtain a copy of the License at\n",
              "//\n",
              "//      http://www.apache.org/licenses/LICENSE-2.0\n",
              "//\n",
              "// Unless required by applicable law or agreed to in writing, software\n",
              "// distributed under the License is distributed on an \"AS IS\" BASIS,\n",
              "// WITHOUT WARRANTIES OR CONDITIONS OF ANY KIND, either express or implied.\n",
              "// See the License for the specific language governing permissions and\n",
              "// limitations under the License.\n",
              "\n",
              "/**\n",
              " * @fileoverview Helpers for google.colab Python module.\n",
              " */\n",
              "(function(scope) {\n",
              "function span(text, styleAttributes = {}) {\n",
              "  const element = document.createElement('span');\n",
              "  element.textContent = text;\n",
              "  for (const key of Object.keys(styleAttributes)) {\n",
              "    element.style[key] = styleAttributes[key];\n",
              "  }\n",
              "  return element;\n",
              "}\n",
              "\n",
              "// Max number of bytes which will be uploaded at a time.\n",
              "const MAX_PAYLOAD_SIZE = 100 * 1024;\n",
              "\n",
              "function _uploadFiles(inputId, outputId) {\n",
              "  const steps = uploadFilesStep(inputId, outputId);\n",
              "  const outputElement = document.getElementById(outputId);\n",
              "  // Cache steps on the outputElement to make it available for the next call\n",
              "  // to uploadFilesContinue from Python.\n",
              "  outputElement.steps = steps;\n",
              "\n",
              "  return _uploadFilesContinue(outputId);\n",
              "}\n",
              "\n",
              "// This is roughly an async generator (not supported in the browser yet),\n",
              "// where there are multiple asynchronous steps and the Python side is going\n",
              "// to poll for completion of each step.\n",
              "// This uses a Promise to block the python side on completion of each step,\n",
              "// then passes the result of the previous step as the input to the next step.\n",
              "function _uploadFilesContinue(outputId) {\n",
              "  const outputElement = document.getElementById(outputId);\n",
              "  const steps = outputElement.steps;\n",
              "\n",
              "  const next = steps.next(outputElement.lastPromiseValue);\n",
              "  return Promise.resolve(next.value.promise).then((value) => {\n",
              "    // Cache the last promise value to make it available to the next\n",
              "    // step of the generator.\n",
              "    outputElement.lastPromiseValue = value;\n",
              "    return next.value.response;\n",
              "  });\n",
              "}\n",
              "\n",
              "/**\n",
              " * Generator function which is called between each async step of the upload\n",
              " * process.\n",
              " * @param {string} inputId Element ID of the input file picker element.\n",
              " * @param {string} outputId Element ID of the output display.\n",
              " * @return {!Iterable<!Object>} Iterable of next steps.\n",
              " */\n",
              "function* uploadFilesStep(inputId, outputId) {\n",
              "  const inputElement = document.getElementById(inputId);\n",
              "  inputElement.disabled = false;\n",
              "\n",
              "  const outputElement = document.getElementById(outputId);\n",
              "  outputElement.innerHTML = '';\n",
              "\n",
              "  const pickedPromise = new Promise((resolve) => {\n",
              "    inputElement.addEventListener('change', (e) => {\n",
              "      resolve(e.target.files);\n",
              "    });\n",
              "  });\n",
              "\n",
              "  const cancel = document.createElement('button');\n",
              "  inputElement.parentElement.appendChild(cancel);\n",
              "  cancel.textContent = 'Cancel upload';\n",
              "  const cancelPromise = new Promise((resolve) => {\n",
              "    cancel.onclick = () => {\n",
              "      resolve(null);\n",
              "    };\n",
              "  });\n",
              "\n",
              "  // Wait for the user to pick the files.\n",
              "  const files = yield {\n",
              "    promise: Promise.race([pickedPromise, cancelPromise]),\n",
              "    response: {\n",
              "      action: 'starting',\n",
              "    }\n",
              "  };\n",
              "\n",
              "  cancel.remove();\n",
              "\n",
              "  // Disable the input element since further picks are not allowed.\n",
              "  inputElement.disabled = true;\n",
              "\n",
              "  if (!files) {\n",
              "    return {\n",
              "      response: {\n",
              "        action: 'complete',\n",
              "      }\n",
              "    };\n",
              "  }\n",
              "\n",
              "  for (const file of files) {\n",
              "    const li = document.createElement('li');\n",
              "    li.append(span(file.name, {fontWeight: 'bold'}));\n",
              "    li.append(span(\n",
              "        `(${file.type || 'n/a'}) - ${file.size} bytes, ` +\n",
              "        `last modified: ${\n",
              "            file.lastModifiedDate ? file.lastModifiedDate.toLocaleDateString() :\n",
              "                                    'n/a'} - `));\n",
              "    const percent = span('0% done');\n",
              "    li.appendChild(percent);\n",
              "\n",
              "    outputElement.appendChild(li);\n",
              "\n",
              "    const fileDataPromise = new Promise((resolve) => {\n",
              "      const reader = new FileReader();\n",
              "      reader.onload = (e) => {\n",
              "        resolve(e.target.result);\n",
              "      };\n",
              "      reader.readAsArrayBuffer(file);\n",
              "    });\n",
              "    // Wait for the data to be ready.\n",
              "    let fileData = yield {\n",
              "      promise: fileDataPromise,\n",
              "      response: {\n",
              "        action: 'continue',\n",
              "      }\n",
              "    };\n",
              "\n",
              "    // Use a chunked sending to avoid message size limits. See b/62115660.\n",
              "    let position = 0;\n",
              "    do {\n",
              "      const length = Math.min(fileData.byteLength - position, MAX_PAYLOAD_SIZE);\n",
              "      const chunk = new Uint8Array(fileData, position, length);\n",
              "      position += length;\n",
              "\n",
              "      const base64 = btoa(String.fromCharCode.apply(null, chunk));\n",
              "      yield {\n",
              "        response: {\n",
              "          action: 'append',\n",
              "          file: file.name,\n",
              "          data: base64,\n",
              "        },\n",
              "      };\n",
              "\n",
              "      let percentDone = fileData.byteLength === 0 ?\n",
              "          100 :\n",
              "          Math.round((position / fileData.byteLength) * 100);\n",
              "      percent.textContent = `${percentDone}% done`;\n",
              "\n",
              "    } while (position < fileData.byteLength);\n",
              "  }\n",
              "\n",
              "  // All done.\n",
              "  yield {\n",
              "    response: {\n",
              "      action: 'complete',\n",
              "    }\n",
              "  };\n",
              "}\n",
              "\n",
              "scope.google = scope.google || {};\n",
              "scope.google.colab = scope.google.colab || {};\n",
              "scope.google.colab._files = {\n",
              "  _uploadFiles,\n",
              "  _uploadFilesContinue,\n",
              "};\n",
              "})(self);\n",
              "</script> "
            ]
          },
          "metadata": {}
        },
        {
          "output_type": "stream",
          "name": "stdout",
          "text": [
            "Saving 1.png to 1.png\n"
          ]
        }
      ]
    },
    {
      "cell_type": "code",
      "source": [
        "image_Path = \"\"\n",
        "filelist = os.listdir('/content/')\n",
        "for file in filelist:\n",
        "    if (file.endswith(\".png\")):\n",
        "        image_Path += file"
      ],
      "metadata": {
        "id": "Y5YY3x_UMgYt"
      },
      "execution_count": 134,
      "outputs": []
    },
    {
      "cell_type": "code",
      "source": [
        "plt.figure(figsize = (10, 3))\n",
        "Image.open(image_Path)"
      ],
      "metadata": {
        "id": "jcVrnhNJLeJi"
      },
      "execution_count": null,
      "outputs": []
    },
    {
      "cell_type": "code",
      "source": [
        "Image.open(image_Path).convert('L').resize((224, 224))"
      ],
      "metadata": {
        "colab": {
          "base_uri": "https://localhost:8080/",
          "height": 241
        },
        "id": "XsXV43MFMdKW",
        "outputId": "ca3fe0b5-0328-4992-b11c-a61c46451581"
      },
      "execution_count": 137,
      "outputs": [
        {
          "output_type": "execute_result",
          "data": {
            "text/plain": [
              "<PIL.Image.Image image mode=L size=224x224 at 0x7FB0A866BD60>"
            ],
            "image/png": "[encoded data removed]"
          },
          "metadata": {},
          "execution_count": 137
        }
      ]
    },
    {
      "cell_type": "code",
      "source": [
        "path_List = [image_Path]"
      ],
      "metadata": {
        "id": "VNsV_UPvPk8R"
      },
      "execution_count": 138,
      "outputs": []
    },
    {
      "cell_type": "code",
      "source": [
        "print(f\"Probability of Having Diabetic Retinopathy : {model.predict(img2Gray(path_List))[0][0]*100 : .2f} %\")"
      ],
      "metadata": {
        "colab": {
          "base_uri": "https://localhost:8080/"
        },
        "id": "_6YHUewoNkIP",
        "outputId": "93fb6e0c-309d-4c78-e942-1566677cfb3f"
      },
      "execution_count": 139,
      "outputs": [
        {
          "output_type": "stream",
          "name": "stdout",
          "text": [
            "1/1 [==============================] - 0s 23ms/step\n",
            "Probability of Having Diabetic Retinopathy :  24.32 %\n"
          ]
        }
      ]
    },
    {
      "cell_type": "code",
      "source": [
        "# import os\n",
        "# import pandas as pd\n",
        "# import numpy as np\n",
        "# from PIL import Image\n",
        "# from sklearn.model_selection import train_test_split\n",
        "# from keras.models import Sequential\n",
        "# from keras.layers import Conv2D, MaxPooling2D, Flatten, Dense\n",
        "# from keras.utils import to_categorical\n",
        "\n",
        "# # Set the image directory and DataFrame containing image paths and labels\n",
        "# image_directory = '/content/tuberculosis-chest-xrays-shenzhen/images/images'\n",
        "\n",
        "\n",
        "# # Load the DataFrame containing image paths and labels\n",
        "# dataframe =combined_df\n",
        "\n",
        "# # Preprocess the images and labels\n",
        "# # ...\n",
        "\n",
        "# # Build and train the model\n",
        "# # ...\n",
        "\n",
        "# # Load and preprocess test images\n",
        "# test_image_paths = ['/content/tuberculosis-chest-xrays-shenzhen/images/images/CHNCXR_0008_0.png', '/content/tuberculosis-chest-xrays-shenzhen/images/images/CHNCXR_0011_0.png']\n",
        "# test_images = []\n",
        "\n",
        "# \"\"\"for image_path in test_image_paths:\n",
        "#     # Open and resize the image to 224x224\n",
        "#     image = Image.open(image_path).convert('L').resize((224, 224))\n",
        "    \n",
        "#     # Convert the image to a NumPy array\n",
        "#     image_array = np.array(image)\n",
        "    \n",
        "#     # Expand the dimensions to (224, 224, 1)\n",
        "#     image_array = np.expand_dims(image_array, axis=-1)\n",
        "    \n",
        "#     # Normalize the image array\n",
        "#     image_array = image_array / 255.0\n",
        "    \n",
        "#     # Append the preprocessed image to the list\n",
        "#     test_images.append(image_array)\n",
        "\n",
        "# # Convert the test images to a NumPy array\n",
        "# test_images = np.array(test_images)\"\"\"\n",
        "\n",
        "# # Make predictions on the test images\n",
        "# predictions = model.predict(test_images)\n",
        "\n",
        "# # Map the predicted labels to their respective class names\n",
        "# class_names = ['class0', 'class1', ...]  # Replace with your actual class names\n",
        "# predicted_labels = np.argmax(predictions, axis=1)\n",
        "# predicted_class_names = [class_names[label] for label in predicted_labels]\n",
        "\n",
        "# # Print the predicted class names for the test images\n",
        "# for image_path, predicted_class in zip(test_image_paths, predicted_class_names):\n",
        "#     print(f'{image_path}: {predicted_class}')"
      ],
      "metadata": {
        "id": "f9IZkzWmObO4"
      },
      "execution_count": null,
      "outputs": []
    }
  ],
  "metadata": {
    "colab": {
      "provenance": [],
      "collapsed_sections": [
        "PwGvfdg0tzXE",
        "z4lGiy6hvKGe",
        "DT1x588SxtFx",
        "PRdh7syRx7DX",
        "2uC-JgwJRFio",
        "mr4LHp_7MT94"
      ],
      "gpuType": "T4",
      "include_colab_link": true
    },
    "kernelspec": {
      "display_name": "Python 3",
      "name": "python3"
    },
    "language_info": {
      "name": "python"
    },
    "accelerator": "GPU"
  },
  "nbformat": 4,
  "nbformat_minor": 0
}